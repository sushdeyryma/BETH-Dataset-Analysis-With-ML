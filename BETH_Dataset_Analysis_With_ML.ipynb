{
  "cells": [
    {
      "cell_type": "markdown",
      "metadata": {
        "id": "v8KcD80Rvxnp"
      },
      "source": [
        "#Step 1 Importing Library\n"
      ]
    },
    {
      "cell_type": "code",
      "execution_count": null,
      "metadata": {
        "id": "E5AkHv0OvEsA"
      },
      "outputs": [],
      "source": [
        "import pandas as pd\n",
        "import numpy as np\n",
        "import seaborn as sns\n",
        "import matplotlib.pyplot as plt"
      ]
    },
    {
      "cell_type": "markdown",
      "metadata": {
        "id": "SKH_ShQBxFFc"
      },
      "source": [
        "# Step 2 Importing Dataset"
      ]
    },
    {
      "cell_type": "code",
      "source": [
        "from google.colab import drive\n",
        "drive.mount('/content/drive')"
      ],
      "metadata": {
        "colab": {
          "base_uri": "https://localhost:8080/"
        },
        "id": "WsyWAldDjMrK",
        "outputId": "c80d1ad0-5489-466c-dbc9-ae7db9999145"
      },
      "execution_count": null,
      "outputs": [
        {
          "output_type": "stream",
          "name": "stdout",
          "text": [
            "Drive already mounted at /content/drive; to attempt to forcibly remount, call drive.mount(\"/content/drive\", force_remount=True).\n"
          ]
        }
      ]
    },
    {
      "cell_type": "code",
      "execution_count": null,
      "metadata": {
        "id": "BpGzgs260FKF",
        "colab": {
          "base_uri": "https://localhost:8080/"
        },
        "outputId": "b7e9f1b2-0f2c-42a3-dee8-0d8b2d8c964d"
      },
      "outputs": [
        {
          "output_type": "execute_result",
          "data": {
            "text/plain": [
              "    timestamp  processId  threadId  parentProcessId  userId  mountNamespace  \\\n",
              "0  129.050634        382       382                1     101      4026532232   \n",
              "1  129.051238        379       379                1     100      4026532231   \n",
              "2  129.051434          1         1                0       0      4026531840   \n",
              "3  129.051481          1         1                0       0      4026531840   \n",
              "4  129.051522          1         1                0       0      4026531840   \n",
              "\n",
              "       processName         hostName  eventId           eventName  \\\n",
              "0  systemd-resolve  ip-10-100-1-217       41              socket   \n",
              "1  systemd-network  ip-10-100-1-217       41              socket   \n",
              "2          systemd  ip-10-100-1-217     1005  security_file_open   \n",
              "3          systemd  ip-10-100-1-217      257              openat   \n",
              "4          systemd  ip-10-100-1-217        5               fstat   \n",
              "\n",
              "                                      stackAddresses  argsNum  returnValue  \\\n",
              "0  [140159195621643, 140159192455417, 94656731598...        3           15   \n",
              "1  [139853228042507, 93935071185801, 93935080775184]        3           15   \n",
              "2             [140362867191588, 8103505641674583858]        4            0   \n",
              "3                                                 []        4           17   \n",
              "4                                  [140362867189385]        2            0   \n",
              "\n",
              "                                                args  sus  evil  \n",
              "0  [{'name': 'domain', 'type': 'int', 'value': 'A...    0     0  \n",
              "1  [{'name': 'domain', 'type': 'int', 'value': 'A...    0     0  \n",
              "2  [{'name': 'pathname', 'type': 'const char*', '...    0     0  \n",
              "3  [{'name': 'dirfd', 'type': 'int', 'value': -10...    0     0  \n",
              "4  [{'name': 'fd', 'type': 'int', 'value': 17}, {...    0     0  "
            ],
            "text/html": [
              "\n",
              "  <div id=\"df-bb8e7dde-28ad-4b81-8308-e75a79e7c4c8\">\n",
              "    <div class=\"colab-df-container\">\n",
              "      <div>\n",
              "<style scoped>\n",
              "    .dataframe tbody tr th:only-of-type {\n",
              "        vertical-align: middle;\n",
              "    }\n",
              "\n",
              "    .dataframe tbody tr th {\n",
              "        vertical-align: top;\n",
              "    }\n",
              "\n",
              "    .dataframe thead th {\n",
              "        text-align: right;\n",
              "    }\n",
              "</style>\n",
              "<table border=\"1\" class=\"dataframe\">\n",
              "  <thead>\n",
              "    <tr style=\"text-align: right;\">\n",
              "      <th></th>\n",
              "      <th>timestamp</th>\n",
              "      <th>processId</th>\n",
              "      <th>threadId</th>\n",
              "      <th>parentProcessId</th>\n",
              "      <th>userId</th>\n",
              "      <th>mountNamespace</th>\n",
              "      <th>processName</th>\n",
              "      <th>hostName</th>\n",
              "      <th>eventId</th>\n",
              "      <th>eventName</th>\n",
              "      <th>stackAddresses</th>\n",
              "      <th>argsNum</th>\n",
              "      <th>returnValue</th>\n",
              "      <th>args</th>\n",
              "      <th>sus</th>\n",
              "      <th>evil</th>\n",
              "    </tr>\n",
              "  </thead>\n",
              "  <tbody>\n",
              "    <tr>\n",
              "      <th>0</th>\n",
              "      <td>129.050634</td>\n",
              "      <td>382</td>\n",
              "      <td>382</td>\n",
              "      <td>1</td>\n",
              "      <td>101</td>\n",
              "      <td>4026532232</td>\n",
              "      <td>systemd-resolve</td>\n",
              "      <td>ip-10-100-1-217</td>\n",
              "      <td>41</td>\n",
              "      <td>socket</td>\n",
              "      <td>[140159195621643, 140159192455417, 94656731598...</td>\n",
              "      <td>3</td>\n",
              "      <td>15</td>\n",
              "      <td>[{'name': 'domain', 'type': 'int', 'value': 'A...</td>\n",
              "      <td>0</td>\n",
              "      <td>0</td>\n",
              "    </tr>\n",
              "    <tr>\n",
              "      <th>1</th>\n",
              "      <td>129.051238</td>\n",
              "      <td>379</td>\n",
              "      <td>379</td>\n",
              "      <td>1</td>\n",
              "      <td>100</td>\n",
              "      <td>4026532231</td>\n",
              "      <td>systemd-network</td>\n",
              "      <td>ip-10-100-1-217</td>\n",
              "      <td>41</td>\n",
              "      <td>socket</td>\n",
              "      <td>[139853228042507, 93935071185801, 93935080775184]</td>\n",
              "      <td>3</td>\n",
              "      <td>15</td>\n",
              "      <td>[{'name': 'domain', 'type': 'int', 'value': 'A...</td>\n",
              "      <td>0</td>\n",
              "      <td>0</td>\n",
              "    </tr>\n",
              "    <tr>\n",
              "      <th>2</th>\n",
              "      <td>129.051434</td>\n",
              "      <td>1</td>\n",
              "      <td>1</td>\n",
              "      <td>0</td>\n",
              "      <td>0</td>\n",
              "      <td>4026531840</td>\n",
              "      <td>systemd</td>\n",
              "      <td>ip-10-100-1-217</td>\n",
              "      <td>1005</td>\n",
              "      <td>security_file_open</td>\n",
              "      <td>[140362867191588, 8103505641674583858]</td>\n",
              "      <td>4</td>\n",
              "      <td>0</td>\n",
              "      <td>[{'name': 'pathname', 'type': 'const char*', '...</td>\n",
              "      <td>0</td>\n",
              "      <td>0</td>\n",
              "    </tr>\n",
              "    <tr>\n",
              "      <th>3</th>\n",
              "      <td>129.051481</td>\n",
              "      <td>1</td>\n",
              "      <td>1</td>\n",
              "      <td>0</td>\n",
              "      <td>0</td>\n",
              "      <td>4026531840</td>\n",
              "      <td>systemd</td>\n",
              "      <td>ip-10-100-1-217</td>\n",
              "      <td>257</td>\n",
              "      <td>openat</td>\n",
              "      <td>[]</td>\n",
              "      <td>4</td>\n",
              "      <td>17</td>\n",
              "      <td>[{'name': 'dirfd', 'type': 'int', 'value': -10...</td>\n",
              "      <td>0</td>\n",
              "      <td>0</td>\n",
              "    </tr>\n",
              "    <tr>\n",
              "      <th>4</th>\n",
              "      <td>129.051522</td>\n",
              "      <td>1</td>\n",
              "      <td>1</td>\n",
              "      <td>0</td>\n",
              "      <td>0</td>\n",
              "      <td>4026531840</td>\n",
              "      <td>systemd</td>\n",
              "      <td>ip-10-100-1-217</td>\n",
              "      <td>5</td>\n",
              "      <td>fstat</td>\n",
              "      <td>[140362867189385]</td>\n",
              "      <td>2</td>\n",
              "      <td>0</td>\n",
              "      <td>[{'name': 'fd', 'type': 'int', 'value': 17}, {...</td>\n",
              "      <td>0</td>\n",
              "      <td>0</td>\n",
              "    </tr>\n",
              "  </tbody>\n",
              "</table>\n",
              "</div>\n",
              "      <button class=\"colab-df-convert\" onclick=\"convertToInteractive('df-bb8e7dde-28ad-4b81-8308-e75a79e7c4c8')\"\n",
              "              title=\"Convert this dataframe to an interactive table.\"\n",
              "              style=\"display:none;\">\n",
              "        \n",
              "  <svg xmlns=\"http://www.w3.org/2000/svg\" height=\"24px\"viewBox=\"0 0 24 24\"\n",
              "       width=\"24px\">\n",
              "    <path d=\"M0 0h24v24H0V0z\" fill=\"none\"/>\n",
              "    <path d=\"M18.56 5.44l.94 2.06.94-2.06 2.06-.94-2.06-.94-.94-2.06-.94 2.06-2.06.94zm-11 1L8.5 8.5l.94-2.06 2.06-.94-2.06-.94L8.5 2.5l-.94 2.06-2.06.94zm10 10l.94 2.06.94-2.06 2.06-.94-2.06-.94-.94-2.06-.94 2.06-2.06.94z\"/><path d=\"M17.41 7.96l-1.37-1.37c-.4-.4-.92-.59-1.43-.59-.52 0-1.04.2-1.43.59L10.3 9.45l-7.72 7.72c-.78.78-.78 2.05 0 2.83L4 21.41c.39.39.9.59 1.41.59.51 0 1.02-.2 1.41-.59l7.78-7.78 2.81-2.81c.8-.78.8-2.07 0-2.86zM5.41 20L4 18.59l7.72-7.72 1.47 1.35L5.41 20z\"/>\n",
              "  </svg>\n",
              "      </button>\n",
              "      \n",
              "  <style>\n",
              "    .colab-df-container {\n",
              "      display:flex;\n",
              "      flex-wrap:wrap;\n",
              "      gap: 12px;\n",
              "    }\n",
              "\n",
              "    .colab-df-convert {\n",
              "      background-color: #E8F0FE;\n",
              "      border: none;\n",
              "      border-radius: 50%;\n",
              "      cursor: pointer;\n",
              "      display: none;\n",
              "      fill: #1967D2;\n",
              "      height: 32px;\n",
              "      padding: 0 0 0 0;\n",
              "      width: 32px;\n",
              "    }\n",
              "\n",
              "    .colab-df-convert:hover {\n",
              "      background-color: #E2EBFA;\n",
              "      box-shadow: 0px 1px 2px rgba(60, 64, 67, 0.3), 0px 1px 3px 1px rgba(60, 64, 67, 0.15);\n",
              "      fill: #174EA6;\n",
              "    }\n",
              "\n",
              "    [theme=dark] .colab-df-convert {\n",
              "      background-color: #3B4455;\n",
              "      fill: #D2E3FC;\n",
              "    }\n",
              "\n",
              "    [theme=dark] .colab-df-convert:hover {\n",
              "      background-color: #434B5C;\n",
              "      box-shadow: 0px 1px 3px 1px rgba(0, 0, 0, 0.15);\n",
              "      filter: drop-shadow(0px 1px 2px rgba(0, 0, 0, 0.3));\n",
              "      fill: #FFFFFF;\n",
              "    }\n",
              "  </style>\n",
              "\n",
              "      <script>\n",
              "        const buttonEl =\n",
              "          document.querySelector('#df-bb8e7dde-28ad-4b81-8308-e75a79e7c4c8 button.colab-df-convert');\n",
              "        buttonEl.style.display =\n",
              "          google.colab.kernel.accessAllowed ? 'block' : 'none';\n",
              "\n",
              "        async function convertToInteractive(key) {\n",
              "          const element = document.querySelector('#df-bb8e7dde-28ad-4b81-8308-e75a79e7c4c8');\n",
              "          const dataTable =\n",
              "            await google.colab.kernel.invokeFunction('convertToInteractive',\n",
              "                                                     [key], {});\n",
              "          if (!dataTable) return;\n",
              "\n",
              "          const docLinkHtml = 'Like what you see? Visit the ' +\n",
              "            '<a target=\"_blank\" href=https://colab.research.google.com/notebooks/data_table.ipynb>data table notebook</a>'\n",
              "            + ' to learn more about interactive tables.';\n",
              "          element.innerHTML = '';\n",
              "          dataTable['output_type'] = 'display_data';\n",
              "          await google.colab.output.renderOutput(dataTable, element);\n",
              "          const docLink = document.createElement('div');\n",
              "          docLink.innerHTML = docLinkHtml;\n",
              "          element.appendChild(docLink);\n",
              "        }\n",
              "      </script>\n",
              "    </div>\n",
              "  </div>\n",
              "  "
            ]
          },
          "metadata": {},
          "execution_count": 5
        }
      ],
      "source": [
        "#beth_df_1 = pd.read_csv(\"labelled_training_data.csv\")\n",
        "import pandas as pd \n",
        "beth_df_1=pd.read_csv('/content/drive/MyDrive/Beth/labelled_testing_data.csv',  encoding='ISO-8859-1')\n",
        "beth_df_1.head()"
      ]
    },
    {
      "cell_type": "code",
      "execution_count": null,
      "metadata": {
        "id": "KvA26Lw7xEsg",
        "colab": {
          "base_uri": "https://localhost:8080/"
        },
        "outputId": "99b5f4e6-38d8-47da-b2f9-007a3b0bb526"
      },
      "outputs": [
        {
          "output_type": "execute_result",
          "data": {
            "text/plain": [
              "    timestamp  processId  threadId  parentProcessId  userId  mountNamespace  \\\n",
              "0  124.439221        381       381                1     101      4026532232   \n",
              "1  124.439751        378       378                1     100      4026532231   \n",
              "2  124.439958          1         1                0       0      4026531840   \n",
              "3  124.440007          1         1                0       0      4026531840   \n",
              "4  124.440037          1         1                0       0      4026531840   \n",
              "\n",
              "       processName         hostName  eventId           eventName  \\\n",
              "0  systemd-resolve  ip-10-100-1-129       41              socket   \n",
              "1  systemd-network  ip-10-100-1-129       41              socket   \n",
              "2          systemd  ip-10-100-1-129     1005  security_file_open   \n",
              "3          systemd  ip-10-100-1-129      257              openat   \n",
              "4          systemd  ip-10-100-1-129        5               fstat   \n",
              "\n",
              "                                      stackAddresses  argsNum  returnValue  \\\n",
              "0  [139913106282763, 139913103116537, 94901962555...        3           15   \n",
              "1  [140343254628619, 93967981149065, 93967990898192]        3           15   \n",
              "2             [140074839310116, 8103505641674583864]        4            0   \n",
              "3                                                 []        4           12   \n",
              "4                                  [140074839307913]        2            0   \n",
              "\n",
              "                                                args  sus  evil  \n",
              "0  [{'name': 'domain', 'type': 'int', 'value': 'A...    0     0  \n",
              "1  [{'name': 'domain', 'type': 'int', 'value': 'A...    0     0  \n",
              "2  [{'name': 'pathname', 'type': 'const char*', '...    0     0  \n",
              "3  [{'name': 'dirfd', 'type': 'int', 'value': -10...    0     0  \n",
              "4  [{'name': 'fd', 'type': 'int', 'value': 12}, {...    0     0  "
            ],
            "text/html": [
              "\n",
              "  <div id=\"df-37b08d75-df50-4639-a57f-9b6aed0b075e\">\n",
              "    <div class=\"colab-df-container\">\n",
              "      <div>\n",
              "<style scoped>\n",
              "    .dataframe tbody tr th:only-of-type {\n",
              "        vertical-align: middle;\n",
              "    }\n",
              "\n",
              "    .dataframe tbody tr th {\n",
              "        vertical-align: top;\n",
              "    }\n",
              "\n",
              "    .dataframe thead th {\n",
              "        text-align: right;\n",
              "    }\n",
              "</style>\n",
              "<table border=\"1\" class=\"dataframe\">\n",
              "  <thead>\n",
              "    <tr style=\"text-align: right;\">\n",
              "      <th></th>\n",
              "      <th>timestamp</th>\n",
              "      <th>processId</th>\n",
              "      <th>threadId</th>\n",
              "      <th>parentProcessId</th>\n",
              "      <th>userId</th>\n",
              "      <th>mountNamespace</th>\n",
              "      <th>processName</th>\n",
              "      <th>hostName</th>\n",
              "      <th>eventId</th>\n",
              "      <th>eventName</th>\n",
              "      <th>stackAddresses</th>\n",
              "      <th>argsNum</th>\n",
              "      <th>returnValue</th>\n",
              "      <th>args</th>\n",
              "      <th>sus</th>\n",
              "      <th>evil</th>\n",
              "    </tr>\n",
              "  </thead>\n",
              "  <tbody>\n",
              "    <tr>\n",
              "      <th>0</th>\n",
              "      <td>124.439221</td>\n",
              "      <td>381</td>\n",
              "      <td>381</td>\n",
              "      <td>1</td>\n",
              "      <td>101</td>\n",
              "      <td>4026532232</td>\n",
              "      <td>systemd-resolve</td>\n",
              "      <td>ip-10-100-1-129</td>\n",
              "      <td>41</td>\n",
              "      <td>socket</td>\n",
              "      <td>[139913106282763, 139913103116537, 94901962555...</td>\n",
              "      <td>3</td>\n",
              "      <td>15</td>\n",
              "      <td>[{'name': 'domain', 'type': 'int', 'value': 'A...</td>\n",
              "      <td>0</td>\n",
              "      <td>0</td>\n",
              "    </tr>\n",
              "    <tr>\n",
              "      <th>1</th>\n",
              "      <td>124.439751</td>\n",
              "      <td>378</td>\n",
              "      <td>378</td>\n",
              "      <td>1</td>\n",
              "      <td>100</td>\n",
              "      <td>4026532231</td>\n",
              "      <td>systemd-network</td>\n",
              "      <td>ip-10-100-1-129</td>\n",
              "      <td>41</td>\n",
              "      <td>socket</td>\n",
              "      <td>[140343254628619, 93967981149065, 93967990898192]</td>\n",
              "      <td>3</td>\n",
              "      <td>15</td>\n",
              "      <td>[{'name': 'domain', 'type': 'int', 'value': 'A...</td>\n",
              "      <td>0</td>\n",
              "      <td>0</td>\n",
              "    </tr>\n",
              "    <tr>\n",
              "      <th>2</th>\n",
              "      <td>124.439958</td>\n",
              "      <td>1</td>\n",
              "      <td>1</td>\n",
              "      <td>0</td>\n",
              "      <td>0</td>\n",
              "      <td>4026531840</td>\n",
              "      <td>systemd</td>\n",
              "      <td>ip-10-100-1-129</td>\n",
              "      <td>1005</td>\n",
              "      <td>security_file_open</td>\n",
              "      <td>[140074839310116, 8103505641674583864]</td>\n",
              "      <td>4</td>\n",
              "      <td>0</td>\n",
              "      <td>[{'name': 'pathname', 'type': 'const char*', '...</td>\n",
              "      <td>0</td>\n",
              "      <td>0</td>\n",
              "    </tr>\n",
              "    <tr>\n",
              "      <th>3</th>\n",
              "      <td>124.440007</td>\n",
              "      <td>1</td>\n",
              "      <td>1</td>\n",
              "      <td>0</td>\n",
              "      <td>0</td>\n",
              "      <td>4026531840</td>\n",
              "      <td>systemd</td>\n",
              "      <td>ip-10-100-1-129</td>\n",
              "      <td>257</td>\n",
              "      <td>openat</td>\n",
              "      <td>[]</td>\n",
              "      <td>4</td>\n",
              "      <td>12</td>\n",
              "      <td>[{'name': 'dirfd', 'type': 'int', 'value': -10...</td>\n",
              "      <td>0</td>\n",
              "      <td>0</td>\n",
              "    </tr>\n",
              "    <tr>\n",
              "      <th>4</th>\n",
              "      <td>124.440037</td>\n",
              "      <td>1</td>\n",
              "      <td>1</td>\n",
              "      <td>0</td>\n",
              "      <td>0</td>\n",
              "      <td>4026531840</td>\n",
              "      <td>systemd</td>\n",
              "      <td>ip-10-100-1-129</td>\n",
              "      <td>5</td>\n",
              "      <td>fstat</td>\n",
              "      <td>[140074839307913]</td>\n",
              "      <td>2</td>\n",
              "      <td>0</td>\n",
              "      <td>[{'name': 'fd', 'type': 'int', 'value': 12}, {...</td>\n",
              "      <td>0</td>\n",
              "      <td>0</td>\n",
              "    </tr>\n",
              "  </tbody>\n",
              "</table>\n",
              "</div>\n",
              "      <button class=\"colab-df-convert\" onclick=\"convertToInteractive('df-37b08d75-df50-4639-a57f-9b6aed0b075e')\"\n",
              "              title=\"Convert this dataframe to an interactive table.\"\n",
              "              style=\"display:none;\">\n",
              "        \n",
              "  <svg xmlns=\"http://www.w3.org/2000/svg\" height=\"24px\"viewBox=\"0 0 24 24\"\n",
              "       width=\"24px\">\n",
              "    <path d=\"M0 0h24v24H0V0z\" fill=\"none\"/>\n",
              "    <path d=\"M18.56 5.44l.94 2.06.94-2.06 2.06-.94-2.06-.94-.94-2.06-.94 2.06-2.06.94zm-11 1L8.5 8.5l.94-2.06 2.06-.94-2.06-.94L8.5 2.5l-.94 2.06-2.06.94zm10 10l.94 2.06.94-2.06 2.06-.94-2.06-.94-.94-2.06-.94 2.06-2.06.94z\"/><path d=\"M17.41 7.96l-1.37-1.37c-.4-.4-.92-.59-1.43-.59-.52 0-1.04.2-1.43.59L10.3 9.45l-7.72 7.72c-.78.78-.78 2.05 0 2.83L4 21.41c.39.39.9.59 1.41.59.51 0 1.02-.2 1.41-.59l7.78-7.78 2.81-2.81c.8-.78.8-2.07 0-2.86zM5.41 20L4 18.59l7.72-7.72 1.47 1.35L5.41 20z\"/>\n",
              "  </svg>\n",
              "      </button>\n",
              "      \n",
              "  <style>\n",
              "    .colab-df-container {\n",
              "      display:flex;\n",
              "      flex-wrap:wrap;\n",
              "      gap: 12px;\n",
              "    }\n",
              "\n",
              "    .colab-df-convert {\n",
              "      background-color: #E8F0FE;\n",
              "      border: none;\n",
              "      border-radius: 50%;\n",
              "      cursor: pointer;\n",
              "      display: none;\n",
              "      fill: #1967D2;\n",
              "      height: 32px;\n",
              "      padding: 0 0 0 0;\n",
              "      width: 32px;\n",
              "    }\n",
              "\n",
              "    .colab-df-convert:hover {\n",
              "      background-color: #E2EBFA;\n",
              "      box-shadow: 0px 1px 2px rgba(60, 64, 67, 0.3), 0px 1px 3px 1px rgba(60, 64, 67, 0.15);\n",
              "      fill: #174EA6;\n",
              "    }\n",
              "\n",
              "    [theme=dark] .colab-df-convert {\n",
              "      background-color: #3B4455;\n",
              "      fill: #D2E3FC;\n",
              "    }\n",
              "\n",
              "    [theme=dark] .colab-df-convert:hover {\n",
              "      background-color: #434B5C;\n",
              "      box-shadow: 0px 1px 3px 1px rgba(0, 0, 0, 0.15);\n",
              "      filter: drop-shadow(0px 1px 2px rgba(0, 0, 0, 0.3));\n",
              "      fill: #FFFFFF;\n",
              "    }\n",
              "  </style>\n",
              "\n",
              "      <script>\n",
              "        const buttonEl =\n",
              "          document.querySelector('#df-37b08d75-df50-4639-a57f-9b6aed0b075e button.colab-df-convert');\n",
              "        buttonEl.style.display =\n",
              "          google.colab.kernel.accessAllowed ? 'block' : 'none';\n",
              "\n",
              "        async function convertToInteractive(key) {\n",
              "          const element = document.querySelector('#df-37b08d75-df50-4639-a57f-9b6aed0b075e');\n",
              "          const dataTable =\n",
              "            await google.colab.kernel.invokeFunction('convertToInteractive',\n",
              "                                                     [key], {});\n",
              "          if (!dataTable) return;\n",
              "\n",
              "          const docLinkHtml = 'Like what you see? Visit the ' +\n",
              "            '<a target=\"_blank\" href=https://colab.research.google.com/notebooks/data_table.ipynb>data table notebook</a>'\n",
              "            + ' to learn more about interactive tables.';\n",
              "          element.innerHTML = '';\n",
              "          dataTable['output_type'] = 'display_data';\n",
              "          await google.colab.output.renderOutput(dataTable, element);\n",
              "          const docLink = document.createElement('div');\n",
              "          docLink.innerHTML = docLinkHtml;\n",
              "          element.appendChild(docLink);\n",
              "        }\n",
              "      </script>\n",
              "    </div>\n",
              "  </div>\n",
              "  "
            ]
          },
          "metadata": {},
          "execution_count": 6
        }
      ],
      "source": [
        "#beth_df_2 = pd.read_csv(\"labelled_testing_data.csv\")\n",
        "#beth_df_3 = pd.read_csv(\"labelled_validation_data.csv\")\n",
        "import pandas as pd \n",
        "beth_df_2=pd.read_csv('/content/drive/MyDrive/Beth/labelled_training_data.csv',  encoding='ISO-8859-1')\n",
        "beth_df_2.head()\n",
        "beth_df_3=pd.read_csv('/content/drive/MyDrive/Beth/labelled_validation_data.csv',  encoding='ISO-8859-1')\n",
        "beth_df_3.head()\n"
      ]
    },
    {
      "cell_type": "code",
      "source": [],
      "metadata": {
        "id": "9mRZ55UtkOKb"
      },
      "execution_count": null,
      "outputs": []
    },
    {
      "cell_type": "code",
      "execution_count": null,
      "metadata": {
        "colab": {
          "base_uri": "https://localhost:8080/"
        },
        "id": "t0gIBnIyvFXo",
        "outputId": "98dcb5f4-5a36-406a-cbf9-13285e4fdc6e"
      },
      "outputs": [
        {
          "output_type": "execute_result",
          "data": {
            "text/plain": [
              "(188967, 16)"
            ]
          },
          "metadata": {},
          "execution_count": 7
        }
      ],
      "source": [
        "beth_df_1.shape\n"
      ]
    },
    {
      "cell_type": "code",
      "execution_count": null,
      "metadata": {
        "colab": {
          "base_uri": "https://localhost:8080/"
        },
        "id": "RKln1aSWvFZj",
        "outputId": "556d88f8-e71b-4e3b-8794-91fde3ce4c95"
      },
      "outputs": [
        {
          "output_type": "execute_result",
          "data": {
            "text/plain": [
              "(763144, 16)"
            ]
          },
          "metadata": {},
          "execution_count": 8
        }
      ],
      "source": [
        "beth_df_2.shape"
      ]
    },
    {
      "cell_type": "code",
      "execution_count": null,
      "metadata": {
        "colab": {
          "base_uri": "https://localhost:8080/"
        },
        "id": "VO3KXSfIvFdQ",
        "outputId": "e1d16e7d-3b5f-432f-a810-9866c9cefba8"
      },
      "outputs": [
        {
          "output_type": "execute_result",
          "data": {
            "text/plain": [
              "(188967, 16)"
            ]
          },
          "metadata": {},
          "execution_count": 9
        }
      ],
      "source": [
        "beth_df_3.shape"
      ]
    },
    {
      "cell_type": "code",
      "execution_count": null,
      "metadata": {
        "colab": {
          "base_uri": "https://localhost:8080/"
        },
        "id": "RM8HWNF5vFf5",
        "outputId": "2cecee62-e4a4-4f06-c305-9aae74e5ea64"
      },
      "outputs": [
        {
          "output_type": "execute_result",
          "data": {
            "text/plain": [
              "(1141078, 16)"
            ]
          },
          "metadata": {},
          "execution_count": 10
        }
      ],
      "source": [
        "#Merge Dataframe\n",
        "beth_df = pd.concat ([beth_df_1, beth_df_2, beth_df_3])\n",
        "beth_df.shape"
      ]
    },
    {
      "cell_type": "code",
      "execution_count": null,
      "metadata": {
        "id": "R2KcLI7xhb72"
      },
      "outputs": [],
      "source": [
        "#shuffle Dataframe\n",
        "df = beth_df.sample(frac=1).reset_index(drop=True)"
      ]
    },
    {
      "cell_type": "code",
      "execution_count": null,
      "metadata": {
        "colab": {
          "base_uri": "https://localhost:8080/"
        },
        "id": "4Hb4wNPehb04",
        "outputId": "518b6f2b-8f0d-4770-942c-b3a49b52afa3"
      },
      "outputs": [
        {
          "output_type": "execute_result",
          "data": {
            "text/plain": [
              "     timestamp  processId  threadId  parentProcessId  userId  mountNamespace  \\\n",
              "0  3897.708658          1         1                0       0      4026531840   \n",
              "1   463.796557       7555      7555             7548    1001      4026531840   \n",
              "\n",
              "  processName         hostName  eventId eventName stackAddresses  argsNum  \\\n",
              "0     systemd   ip-10-100-1-57        5     fstat             []        2   \n",
              "1         tsm  ip-10-100-1-217       42   connect             []        3   \n",
              "\n",
              "   returnValue                                               args  sus  evil  \n",
              "0            0  [{'name': 'fd', 'type': 'int', 'value': 12}, {...    0     0  \n",
              "1         -114  [{'name': 'sockfd', 'type': 'int', 'value': 20...    1     1  "
            ],
            "text/html": [
              "\n",
              "  <div id=\"df-b1530e88-b4d8-4630-a3ed-332283e8c91e\">\n",
              "    <div class=\"colab-df-container\">\n",
              "      <div>\n",
              "<style scoped>\n",
              "    .dataframe tbody tr th:only-of-type {\n",
              "        vertical-align: middle;\n",
              "    }\n",
              "\n",
              "    .dataframe tbody tr th {\n",
              "        vertical-align: top;\n",
              "    }\n",
              "\n",
              "    .dataframe thead th {\n",
              "        text-align: right;\n",
              "    }\n",
              "</style>\n",
              "<table border=\"1\" class=\"dataframe\">\n",
              "  <thead>\n",
              "    <tr style=\"text-align: right;\">\n",
              "      <th></th>\n",
              "      <th>timestamp</th>\n",
              "      <th>processId</th>\n",
              "      <th>threadId</th>\n",
              "      <th>parentProcessId</th>\n",
              "      <th>userId</th>\n",
              "      <th>mountNamespace</th>\n",
              "      <th>processName</th>\n",
              "      <th>hostName</th>\n",
              "      <th>eventId</th>\n",
              "      <th>eventName</th>\n",
              "      <th>stackAddresses</th>\n",
              "      <th>argsNum</th>\n",
              "      <th>returnValue</th>\n",
              "      <th>args</th>\n",
              "      <th>sus</th>\n",
              "      <th>evil</th>\n",
              "    </tr>\n",
              "  </thead>\n",
              "  <tbody>\n",
              "    <tr>\n",
              "      <th>0</th>\n",
              "      <td>3897.708658</td>\n",
              "      <td>1</td>\n",
              "      <td>1</td>\n",
              "      <td>0</td>\n",
              "      <td>0</td>\n",
              "      <td>4026531840</td>\n",
              "      <td>systemd</td>\n",
              "      <td>ip-10-100-1-57</td>\n",
              "      <td>5</td>\n",
              "      <td>fstat</td>\n",
              "      <td>[]</td>\n",
              "      <td>2</td>\n",
              "      <td>0</td>\n",
              "      <td>[{'name': 'fd', 'type': 'int', 'value': 12}, {...</td>\n",
              "      <td>0</td>\n",
              "      <td>0</td>\n",
              "    </tr>\n",
              "    <tr>\n",
              "      <th>1</th>\n",
              "      <td>463.796557</td>\n",
              "      <td>7555</td>\n",
              "      <td>7555</td>\n",
              "      <td>7548</td>\n",
              "      <td>1001</td>\n",
              "      <td>4026531840</td>\n",
              "      <td>tsm</td>\n",
              "      <td>ip-10-100-1-217</td>\n",
              "      <td>42</td>\n",
              "      <td>connect</td>\n",
              "      <td>[]</td>\n",
              "      <td>3</td>\n",
              "      <td>-114</td>\n",
              "      <td>[{'name': 'sockfd', 'type': 'int', 'value': 20...</td>\n",
              "      <td>1</td>\n",
              "      <td>1</td>\n",
              "    </tr>\n",
              "  </tbody>\n",
              "</table>\n",
              "</div>\n",
              "      <button class=\"colab-df-convert\" onclick=\"convertToInteractive('df-b1530e88-b4d8-4630-a3ed-332283e8c91e')\"\n",
              "              title=\"Convert this dataframe to an interactive table.\"\n",
              "              style=\"display:none;\">\n",
              "        \n",
              "  <svg xmlns=\"http://www.w3.org/2000/svg\" height=\"24px\"viewBox=\"0 0 24 24\"\n",
              "       width=\"24px\">\n",
              "    <path d=\"M0 0h24v24H0V0z\" fill=\"none\"/>\n",
              "    <path d=\"M18.56 5.44l.94 2.06.94-2.06 2.06-.94-2.06-.94-.94-2.06-.94 2.06-2.06.94zm-11 1L8.5 8.5l.94-2.06 2.06-.94-2.06-.94L8.5 2.5l-.94 2.06-2.06.94zm10 10l.94 2.06.94-2.06 2.06-.94-2.06-.94-.94-2.06-.94 2.06-2.06.94z\"/><path d=\"M17.41 7.96l-1.37-1.37c-.4-.4-.92-.59-1.43-.59-.52 0-1.04.2-1.43.59L10.3 9.45l-7.72 7.72c-.78.78-.78 2.05 0 2.83L4 21.41c.39.39.9.59 1.41.59.51 0 1.02-.2 1.41-.59l7.78-7.78 2.81-2.81c.8-.78.8-2.07 0-2.86zM5.41 20L4 18.59l7.72-7.72 1.47 1.35L5.41 20z\"/>\n",
              "  </svg>\n",
              "      </button>\n",
              "      \n",
              "  <style>\n",
              "    .colab-df-container {\n",
              "      display:flex;\n",
              "      flex-wrap:wrap;\n",
              "      gap: 12px;\n",
              "    }\n",
              "\n",
              "    .colab-df-convert {\n",
              "      background-color: #E8F0FE;\n",
              "      border: none;\n",
              "      border-radius: 50%;\n",
              "      cursor: pointer;\n",
              "      display: none;\n",
              "      fill: #1967D2;\n",
              "      height: 32px;\n",
              "      padding: 0 0 0 0;\n",
              "      width: 32px;\n",
              "    }\n",
              "\n",
              "    .colab-df-convert:hover {\n",
              "      background-color: #E2EBFA;\n",
              "      box-shadow: 0px 1px 2px rgba(60, 64, 67, 0.3), 0px 1px 3px 1px rgba(60, 64, 67, 0.15);\n",
              "      fill: #174EA6;\n",
              "    }\n",
              "\n",
              "    [theme=dark] .colab-df-convert {\n",
              "      background-color: #3B4455;\n",
              "      fill: #D2E3FC;\n",
              "    }\n",
              "\n",
              "    [theme=dark] .colab-df-convert:hover {\n",
              "      background-color: #434B5C;\n",
              "      box-shadow: 0px 1px 3px 1px rgba(0, 0, 0, 0.15);\n",
              "      filter: drop-shadow(0px 1px 2px rgba(0, 0, 0, 0.3));\n",
              "      fill: #FFFFFF;\n",
              "    }\n",
              "  </style>\n",
              "\n",
              "      <script>\n",
              "        const buttonEl =\n",
              "          document.querySelector('#df-b1530e88-b4d8-4630-a3ed-332283e8c91e button.colab-df-convert');\n",
              "        buttonEl.style.display =\n",
              "          google.colab.kernel.accessAllowed ? 'block' : 'none';\n",
              "\n",
              "        async function convertToInteractive(key) {\n",
              "          const element = document.querySelector('#df-b1530e88-b4d8-4630-a3ed-332283e8c91e');\n",
              "          const dataTable =\n",
              "            await google.colab.kernel.invokeFunction('convertToInteractive',\n",
              "                                                     [key], {});\n",
              "          if (!dataTable) return;\n",
              "\n",
              "          const docLinkHtml = 'Like what you see? Visit the ' +\n",
              "            '<a target=\"_blank\" href=https://colab.research.google.com/notebooks/data_table.ipynb>data table notebook</a>'\n",
              "            + ' to learn more about interactive tables.';\n",
              "          element.innerHTML = '';\n",
              "          dataTable['output_type'] = 'display_data';\n",
              "          await google.colab.output.renderOutput(dataTable, element);\n",
              "          const docLink = document.createElement('div');\n",
              "          docLink.innerHTML = docLinkHtml;\n",
              "          element.appendChild(docLink);\n",
              "        }\n",
              "      </script>\n",
              "    </div>\n",
              "  </div>\n",
              "  "
            ]
          },
          "metadata": {},
          "execution_count": 12
        }
      ],
      "source": [
        "df.head(2)"
      ]
    },
    {
      "cell_type": "code",
      "execution_count": null,
      "metadata": {
        "id": "s7__0z1mhbv4"
      },
      "outputs": [],
      "source": []
    },
    {
      "cell_type": "code",
      "execution_count": null,
      "metadata": {
        "id": "eaNXnTZHhbc-"
      },
      "outputs": [],
      "source": []
    },
    {
      "cell_type": "markdown",
      "metadata": {
        "id": "wnFtTP524l6d"
      },
      "source": [
        "# STEP 3 Exploring the Dataset"
      ]
    },
    {
      "cell_type": "code",
      "execution_count": null,
      "metadata": {
        "colab": {
          "base_uri": "https://localhost:8080/",
          "height": 694
        },
        "id": "-06IzTaay_JT",
        "outputId": "470af8be-9686-49c6-cb65-dfbac30938d4"
      },
      "outputs": [
        {
          "output_type": "execute_result",
          "data": {
            "text/plain": [
              "<matplotlib.axes._subplots.AxesSubplot at 0x7fcebe466bd0>"
            ]
          },
          "metadata": {},
          "execution_count": 28
        },
        {
          "output_type": "display_data",
          "data": {
            "text/plain": [
              "<Figure size 720x720 with 1 Axes>"
            ],
            "image/png": "[encoded data removed]"
          },
          "metadata": {
            "needs_background": "light"
          }
        }
      ],
      "source": [
        "#check null value in the dataset\n",
        "plt.figure(figsize = (10,10))\n",
        "sns.heatmap(df.isnull(), cbar = False, cmap=\"YlGnBu\")"
      ]
    },
    {
      "cell_type": "code",
      "execution_count": null,
      "metadata": {
        "id": "3LKEetsyy-W0"
      },
      "outputs": [],
      "source": [
        "new = df.drop(['parentProcessId','userId','mountNamespace','argsNum'], axis = 1)"
      ]
    },
    {
      "cell_type": "code",
      "execution_count": null,
      "metadata": {
        "id": "buXW6O3P9_na",
        "colab": {
          "base_uri": "https://localhost:8080/",
          "height": 583
        },
        "outputId": "c3765ef5-f49b-47a2-f51a-abfcf11790e5"
      },
      "outputs": [
        {
          "output_type": "execute_result",
          "data": {
            "text/plain": [
              "    timestamp  processId  threadId      processName         hostName  eventId  \\\n",
              "0  460.987552     7553.0    7553.0              tsm  ip-10-100-1-217      4.0   \n",
              "1  896.173970     7302.0    7302.0               ps  ip-10-100-1-120      3.0   \n",
              "2  461.460668     7555.0    7555.0              tsm  ip-10-100-1-217     42.0   \n",
              "3  470.323093     7555.0    7555.0              tsm  ip-10-100-1-217     42.0   \n",
              "4  325.141263     1573.0    1642.0  ssm-agent-worke  ip-10-100-1-129     41.0   \n",
              "\n",
              "  eventName                                     stackAddresses  returnValue  \\\n",
              "0      stat                                                 []         -2.0   \n",
              "1     close                                  [140612356535467]          0.0   \n",
              "2   connect                                                 []       -114.0   \n",
              "3   connect                                                 []       -114.0   \n",
              "4    socket  [94530929929707, 94530929914324, 9453093151181...         11.0   \n",
              "\n",
              "                                                args  sus  evil  \n",
              "0  [{'name': 'pathname', 'type': 'const char*', '...  1.0   1.0  \n",
              "1        [{'name': 'fd', 'type': 'int', 'value': 4}]  0.0   0.0  \n",
              "2  [{'name': 'sockfd', 'type': 'int', 'value': 79...  1.0   1.0  \n",
              "3  [{'name': 'sockfd', 'type': 'int', 'value': 75...  1.0   1.0  \n",
              "4  [{'name': 'domain', 'type': 'int', 'value': 'A...  0.0   0.0  "
            ],
            "text/html": [
              "\n",
              "  <div id=\"df-422ddb1a-5937-4764-96b1-dd4fda49fb2c\">\n",
              "    <div class=\"colab-df-container\">\n",
              "      <div>\n",
              "<style scoped>\n",
              "    .dataframe tbody tr th:only-of-type {\n",
              "        vertical-align: middle;\n",
              "    }\n",
              "\n",
              "    .dataframe tbody tr th {\n",
              "        vertical-align: top;\n",
              "    }\n",
              "\n",
              "    .dataframe thead th {\n",
              "        text-align: right;\n",
              "    }\n",
              "</style>\n",
              "<table border=\"1\" class=\"dataframe\">\n",
              "  <thead>\n",
              "    <tr style=\"text-align: right;\">\n",
              "      <th></th>\n",
              "      <th>timestamp</th>\n",
              "      <th>processId</th>\n",
              "      <th>threadId</th>\n",
              "      <th>processName</th>\n",
              "      <th>hostName</th>\n",
              "      <th>eventId</th>\n",
              "      <th>eventName</th>\n",
              "      <th>stackAddresses</th>\n",
              "      <th>returnValue</th>\n",
              "      <th>args</th>\n",
              "      <th>sus</th>\n",
              "      <th>evil</th>\n",
              "    </tr>\n",
              "  </thead>\n",
              "  <tbody>\n",
              "    <tr>\n",
              "      <th>0</th>\n",
              "      <td>460.987552</td>\n",
              "      <td>7553.0</td>\n",
              "      <td>7553.0</td>\n",
              "      <td>tsm</td>\n",
              "      <td>ip-10-100-1-217</td>\n",
              "      <td>4.0</td>\n",
              "      <td>stat</td>\n",
              "      <td>[]</td>\n",
              "      <td>-2.0</td>\n",
              "      <td>[{'name': 'pathname', 'type': 'const char*', '...</td>\n",
              "      <td>1.0</td>\n",
              "      <td>1.0</td>\n",
              "    </tr>\n",
              "    <tr>\n",
              "      <th>1</th>\n",
              "      <td>896.173970</td>\n",
              "      <td>7302.0</td>\n",
              "      <td>7302.0</td>\n",
              "      <td>ps</td>\n",
              "      <td>ip-10-100-1-120</td>\n",
              "      <td>3.0</td>\n",
              "      <td>close</td>\n",
              "      <td>[140612356535467]</td>\n",
              "      <td>0.0</td>\n",
              "      <td>[{'name': 'fd', 'type': 'int', 'value': 4}]</td>\n",
              "      <td>0.0</td>\n",
              "      <td>0.0</td>\n",
              "    </tr>\n",
              "    <tr>\n",
              "      <th>2</th>\n",
              "      <td>461.460668</td>\n",
              "      <td>7555.0</td>\n",
              "      <td>7555.0</td>\n",
              "      <td>tsm</td>\n",
              "      <td>ip-10-100-1-217</td>\n",
              "      <td>42.0</td>\n",
              "      <td>connect</td>\n",
              "      <td>[]</td>\n",
              "      <td>-114.0</td>\n",
              "      <td>[{'name': 'sockfd', 'type': 'int', 'value': 79...</td>\n",
              "      <td>1.0</td>\n",
              "      <td>1.0</td>\n",
              "    </tr>\n",
              "    <tr>\n",
              "      <th>3</th>\n",
              "      <td>470.323093</td>\n",
              "      <td>7555.0</td>\n",
              "      <td>7555.0</td>\n",
              "      <td>tsm</td>\n",
              "      <td>ip-10-100-1-217</td>\n",
              "      <td>42.0</td>\n",
              "      <td>connect</td>\n",
              "      <td>[]</td>\n",
              "      <td>-114.0</td>\n",
              "      <td>[{'name': 'sockfd', 'type': 'int', 'value': 75...</td>\n",
              "      <td>1.0</td>\n",
              "      <td>1.0</td>\n",
              "    </tr>\n",
              "    <tr>\n",
              "      <th>4</th>\n",
              "      <td>325.141263</td>\n",
              "      <td>1573.0</td>\n",
              "      <td>1642.0</td>\n",
              "      <td>ssm-agent-worke</td>\n",
              "      <td>ip-10-100-1-129</td>\n",
              "      <td>41.0</td>\n",
              "      <td>socket</td>\n",
              "      <td>[94530929929707, 94530929914324, 9453093151181...</td>\n",
              "      <td>11.0</td>\n",
              "      <td>[{'name': 'domain', 'type': 'int', 'value': 'A...</td>\n",
              "      <td>0.0</td>\n",
              "      <td>0.0</td>\n",
              "    </tr>\n",
              "  </tbody>\n",
              "</table>\n",
              "</div>\n",
              "      <button class=\"colab-df-convert\" onclick=\"convertToInteractive('df-422ddb1a-5937-4764-96b1-dd4fda49fb2c')\"\n",
              "              title=\"Convert this dataframe to an interactive table.\"\n",
              "              style=\"display:none;\">\n",
              "        \n",
              "  <svg xmlns=\"http://www.w3.org/2000/svg\" height=\"24px\"viewBox=\"0 0 24 24\"\n",
              "       width=\"24px\">\n",
              "    <path d=\"M0 0h24v24H0V0z\" fill=\"none\"/>\n",
              "    <path d=\"M18.56 5.44l.94 2.06.94-2.06 2.06-.94-2.06-.94-.94-2.06-.94 2.06-2.06.94zm-11 1L8.5 8.5l.94-2.06 2.06-.94-2.06-.94L8.5 2.5l-.94 2.06-2.06.94zm10 10l.94 2.06.94-2.06 2.06-.94-2.06-.94-.94-2.06-.94 2.06-2.06.94z\"/><path d=\"M17.41 7.96l-1.37-1.37c-.4-.4-.92-.59-1.43-.59-.52 0-1.04.2-1.43.59L10.3 9.45l-7.72 7.72c-.78.78-.78 2.05 0 2.83L4 21.41c.39.39.9.59 1.41.59.51 0 1.02-.2 1.41-.59l7.78-7.78 2.81-2.81c.8-.78.8-2.07 0-2.86zM5.41 20L4 18.59l7.72-7.72 1.47 1.35L5.41 20z\"/>\n",
              "  </svg>\n",
              "      </button>\n",
              "      \n",
              "  <style>\n",
              "    .colab-df-container {\n",
              "      display:flex;\n",
              "      flex-wrap:wrap;\n",
              "      gap: 12px;\n",
              "    }\n",
              "\n",
              "    .colab-df-convert {\n",
              "      background-color: #E8F0FE;\n",
              "      border: none;\n",
              "      border-radius: 50%;\n",
              "      cursor: pointer;\n",
              "      display: none;\n",
              "      fill: #1967D2;\n",
              "      height: 32px;\n",
              "      padding: 0 0 0 0;\n",
              "      width: 32px;\n",
              "    }\n",
              "\n",
              "    .colab-df-convert:hover {\n",
              "      background-color: #E2EBFA;\n",
              "      box-shadow: 0px 1px 2px rgba(60, 64, 67, 0.3), 0px 1px 3px 1px rgba(60, 64, 67, 0.15);\n",
              "      fill: #174EA6;\n",
              "    }\n",
              "\n",
              "    [theme=dark] .colab-df-convert {\n",
              "      background-color: #3B4455;\n",
              "      fill: #D2E3FC;\n",
              "    }\n",
              "\n",
              "    [theme=dark] .colab-df-convert:hover {\n",
              "      background-color: #434B5C;\n",
              "      box-shadow: 0px 1px 3px 1px rgba(0, 0, 0, 0.15);\n",
              "      filter: drop-shadow(0px 1px 2px rgba(0, 0, 0, 0.3));\n",
              "      fill: #FFFFFF;\n",
              "    }\n",
              "  </style>\n",
              "\n",
              "      <script>\n",
              "        const buttonEl =\n",
              "          document.querySelector('#df-422ddb1a-5937-4764-96b1-dd4fda49fb2c button.colab-df-convert');\n",
              "        buttonEl.style.display =\n",
              "          google.colab.kernel.accessAllowed ? 'block' : 'none';\n",
              "\n",
              "        async function convertToInteractive(key) {\n",
              "          const element = document.querySelector('#df-422ddb1a-5937-4764-96b1-dd4fda49fb2c');\n",
              "          const dataTable =\n",
              "            await google.colab.kernel.invokeFunction('convertToInteractive',\n",
              "                                                     [key], {});\n",
              "          if (!dataTable) return;\n",
              "\n",
              "          const docLinkHtml = 'Like what you see? Visit the ' +\n",
              "            '<a target=\"_blank\" href=https://colab.research.google.com/notebooks/data_table.ipynb>data table notebook</a>'\n",
              "            + ' to learn more about interactive tables.';\n",
              "          element.innerHTML = '';\n",
              "          dataTable['output_type'] = 'display_data';\n",
              "          await google.colab.output.renderOutput(dataTable, element);\n",
              "          const docLink = document.createElement('div');\n",
              "          docLink.innerHTML = docLinkHtml;\n",
              "          element.appendChild(docLink);\n",
              "        }\n",
              "      </script>\n",
              "    </div>\n",
              "  </div>\n",
              "  "
            ]
          },
          "metadata": {},
          "execution_count": 12
        }
      ],
      "source": [
        "new.head(5)"
      ]
    },
    {
      "cell_type": "code",
      "execution_count": null,
      "metadata": {
        "colab": {
          "base_uri": "https://localhost:8080/",
          "height": 977
        },
        "id": "EVFeLE979_j2",
        "outputId": "64b88cb7-202a-457b-a802-518c28f5cdc8"
      },
      "outputs": [
        {
          "output_type": "execute_result",
          "data": {
            "text/plain": [
              "<seaborn.axisgrid.PairGrid at 0x7fbf98530b50>"
            ]
          },
          "metadata": {},
          "execution_count": 13
        },
        {
          "output_type": "display_data",
          "data": {
            "text/plain": [
              "<Figure size 1260x1260 with 56 Axes>"
            ],
            "image/png": "[encoded data removed]"
          },
          "metadata": {
            "needs_background": "light"
          }
        }
      ],
      "source": [
        "sns.pairplot(new)"
      ]
    },
    {
      "cell_type": "code",
      "execution_count": null,
      "metadata": {
        "id": "vSFjCrIf9_iG"
      },
      "outputs": [],
      "source": []
    },
    {
      "cell_type": "code",
      "execution_count": null,
      "metadata": {
        "colab": {
          "base_uri": "https://localhost:8080/"
        },
        "id": "cIPPDUWx9_du",
        "outputId": "50b85d22-3a0d-4b6c-9b77-d097afebd04f"
      },
      "outputs": [
        {
          "output_type": "stream",
          "name": "stdout",
          "text": [
            "<class 'pandas.core.frame.DataFrame'>\n",
            "RangeIndex: 319292 entries, 0 to 319291\n",
            "Data columns (total 16 columns):\n",
            " #   Column           Non-Null Count   Dtype  \n",
            "---  ------           --------------   -----  \n",
            " 0   timestamp        319292 non-null  float64\n",
            " 1   processId        319291 non-null  float64\n",
            " 2   threadId         319290 non-null  float64\n",
            " 3   parentProcessId  319290 non-null  float64\n",
            " 4   userId           319290 non-null  float64\n",
            " 5   mountNamespace   319290 non-null  float64\n",
            " 6   processName      319289 non-null  object \n",
            " 7   hostName         319289 non-null  object \n",
            " 8   eventId          319289 non-null  float64\n",
            " 9   eventName        319289 non-null  object \n",
            " 10  stackAddresses   319289 non-null  object \n",
            " 11  argsNum          319289 non-null  float64\n",
            " 12  returnValue      319289 non-null  float64\n",
            " 13  args             319289 non-null  object \n",
            " 14  sus              319289 non-null  float64\n",
            " 15  evil             319289 non-null  float64\n",
            "dtypes: float64(11), object(5)\n",
            "memory usage: 39.0+ MB\n"
          ]
        }
      ],
      "source": [
        "df.info()"
      ]
    },
    {
      "cell_type": "code",
      "execution_count": null,
      "metadata": {
        "colab": {
          "base_uri": "https://localhost:8080/",
          "height": 364
        },
        "id": "NooFn7vDxu6z",
        "outputId": "60b87a5a-bc10-4060-a349-c128b565d523"
      },
      "outputs": [
        {
          "output_type": "execute_result",
          "data": {
            "text/plain": [
              "           timestamp      processId       threadId  parentProcessId  \\\n",
              "count  319292.000000  319291.000000  319290.000000    319290.000000   \n",
              "mean      768.962903    6809.678939    6812.593993      2424.101760   \n",
              "std       954.364430    1907.251515    1901.384259      2994.992184   \n",
              "min       124.439221       1.000000       1.000000         0.000000   \n",
              "25%       146.699255    7276.000000    7276.000000       187.000000   \n",
              "50%       413.505534    7309.000000    7309.000000      1317.000000   \n",
              "75%       709.662148    7386.000000    7386.000000      7102.000000   \n",
              "max      3954.587643    7555.000000    7705.000000      7552.000000   \n",
              "\n",
              "              userId  mountNamespace        eventId        argsNum  \\\n",
              "count  319290.000000    3.192900e+05  319289.000000  319289.000000   \n",
              "mean      218.903188    4.026519e+09     222.426582       2.675683   \n",
              "std       413.208816    7.125879e+06     344.377172       1.214307   \n",
              "min         0.000000    4.020000e+02       2.000000       0.000000   \n",
              "25%         0.000000    4.026532e+09       4.000000       2.000000   \n",
              "50%         0.000000    4.026532e+09      42.000000       3.000000   \n",
              "75%         0.000000    4.026532e+09     257.000000       4.000000   \n",
              "max      1001.000000    4.026532e+09    1010.000000       5.000000   \n",
              "\n",
              "         returnValue            sus           evil  \n",
              "count  319289.000000  319289.000000  319289.000000  \n",
              "mean        0.958865       0.251005       0.206916  \n",
              "std       366.062991       0.433592       0.405095  \n",
              "min      -115.000000       0.000000       0.000000  \n",
              "25%         0.000000       0.000000       0.000000  \n",
              "50%         0.000000       0.000000       0.000000  \n",
              "75%         0.000000       1.000000       0.000000  \n",
              "max     32768.000000       1.000000       1.000000  "
            ],
            "text/html": [
              "\n",
              "  <div id=\"df-c05c7e2a-68e0-45e5-8e12-cef8c6a54e2a\">\n",
              "    <div class=\"colab-df-container\">\n",
              "      <div>\n",
              "<style scoped>\n",
              "    .dataframe tbody tr th:only-of-type {\n",
              "        vertical-align: middle;\n",
              "    }\n",
              "\n",
              "    .dataframe tbody tr th {\n",
              "        vertical-align: top;\n",
              "    }\n",
              "\n",
              "    .dataframe thead th {\n",
              "        text-align: right;\n",
              "    }\n",
              "</style>\n",
              "<table border=\"1\" class=\"dataframe\">\n",
              "  <thead>\n",
              "    <tr style=\"text-align: right;\">\n",
              "      <th></th>\n",
              "      <th>timestamp</th>\n",
              "      <th>processId</th>\n",
              "      <th>threadId</th>\n",
              "      <th>parentProcessId</th>\n",
              "      <th>userId</th>\n",
              "      <th>mountNamespace</th>\n",
              "      <th>eventId</th>\n",
              "      <th>argsNum</th>\n",
              "      <th>returnValue</th>\n",
              "      <th>sus</th>\n",
              "      <th>evil</th>\n",
              "    </tr>\n",
              "  </thead>\n",
              "  <tbody>\n",
              "    <tr>\n",
              "      <th>count</th>\n",
              "      <td>319292.000000</td>\n",
              "      <td>319291.000000</td>\n",
              "      <td>319290.000000</td>\n",
              "      <td>319290.000000</td>\n",
              "      <td>319290.000000</td>\n",
              "      <td>3.192900e+05</td>\n",
              "      <td>319289.000000</td>\n",
              "      <td>319289.000000</td>\n",
              "      <td>319289.000000</td>\n",
              "      <td>319289.000000</td>\n",
              "      <td>319289.000000</td>\n",
              "    </tr>\n",
              "    <tr>\n",
              "      <th>mean</th>\n",
              "      <td>768.962903</td>\n",
              "      <td>6809.678939</td>\n",
              "      <td>6812.593993</td>\n",
              "      <td>2424.101760</td>\n",
              "      <td>218.903188</td>\n",
              "      <td>4.026519e+09</td>\n",
              "      <td>222.426582</td>\n",
              "      <td>2.675683</td>\n",
              "      <td>0.958865</td>\n",
              "      <td>0.251005</td>\n",
              "      <td>0.206916</td>\n",
              "    </tr>\n",
              "    <tr>\n",
              "      <th>std</th>\n",
              "      <td>954.364430</td>\n",
              "      <td>1907.251515</td>\n",
              "      <td>1901.384259</td>\n",
              "      <td>2994.992184</td>\n",
              "      <td>413.208816</td>\n",
              "      <td>7.125879e+06</td>\n",
              "      <td>344.377172</td>\n",
              "      <td>1.214307</td>\n",
              "      <td>366.062991</td>\n",
              "      <td>0.433592</td>\n",
              "      <td>0.405095</td>\n",
              "    </tr>\n",
              "    <tr>\n",
              "      <th>min</th>\n",
              "      <td>124.439221</td>\n",
              "      <td>1.000000</td>\n",
              "      <td>1.000000</td>\n",
              "      <td>0.000000</td>\n",
              "      <td>0.000000</td>\n",
              "      <td>4.020000e+02</td>\n",
              "      <td>2.000000</td>\n",
              "      <td>0.000000</td>\n",
              "      <td>-115.000000</td>\n",
              "      <td>0.000000</td>\n",
              "      <td>0.000000</td>\n",
              "    </tr>\n",
              "    <tr>\n",
              "      <th>25%</th>\n",
              "      <td>146.699255</td>\n",
              "      <td>7276.000000</td>\n",
              "      <td>7276.000000</td>\n",
              "      <td>187.000000</td>\n",
              "      <td>0.000000</td>\n",
              "      <td>4.026532e+09</td>\n",
              "      <td>4.000000</td>\n",
              "      <td>2.000000</td>\n",
              "      <td>0.000000</td>\n",
              "      <td>0.000000</td>\n",
              "      <td>0.000000</td>\n",
              "    </tr>\n",
              "    <tr>\n",
              "      <th>50%</th>\n",
              "      <td>413.505534</td>\n",
              "      <td>7309.000000</td>\n",
              "      <td>7309.000000</td>\n",
              "      <td>1317.000000</td>\n",
              "      <td>0.000000</td>\n",
              "      <td>4.026532e+09</td>\n",
              "      <td>42.000000</td>\n",
              "      <td>3.000000</td>\n",
              "      <td>0.000000</td>\n",
              "      <td>0.000000</td>\n",
              "      <td>0.000000</td>\n",
              "    </tr>\n",
              "    <tr>\n",
              "      <th>75%</th>\n",
              "      <td>709.662148</td>\n",
              "      <td>7386.000000</td>\n",
              "      <td>7386.000000</td>\n",
              "      <td>7102.000000</td>\n",
              "      <td>0.000000</td>\n",
              "      <td>4.026532e+09</td>\n",
              "      <td>257.000000</td>\n",
              "      <td>4.000000</td>\n",
              "      <td>0.000000</td>\n",
              "      <td>1.000000</td>\n",
              "      <td>0.000000</td>\n",
              "    </tr>\n",
              "    <tr>\n",
              "      <th>max</th>\n",
              "      <td>3954.587643</td>\n",
              "      <td>7555.000000</td>\n",
              "      <td>7705.000000</td>\n",
              "      <td>7552.000000</td>\n",
              "      <td>1001.000000</td>\n",
              "      <td>4.026532e+09</td>\n",
              "      <td>1010.000000</td>\n",
              "      <td>5.000000</td>\n",
              "      <td>32768.000000</td>\n",
              "      <td>1.000000</td>\n",
              "      <td>1.000000</td>\n",
              "    </tr>\n",
              "  </tbody>\n",
              "</table>\n",
              "</div>\n",
              "      <button class=\"colab-df-convert\" onclick=\"convertToInteractive('df-c05c7e2a-68e0-45e5-8e12-cef8c6a54e2a')\"\n",
              "              title=\"Convert this dataframe to an interactive table.\"\n",
              "              style=\"display:none;\">\n",
              "        \n",
              "  <svg xmlns=\"http://www.w3.org/2000/svg\" height=\"24px\"viewBox=\"0 0 24 24\"\n",
              "       width=\"24px\">\n",
              "    <path d=\"M0 0h24v24H0V0z\" fill=\"none\"/>\n",
              "    <path d=\"M18.56 5.44l.94 2.06.94-2.06 2.06-.94-2.06-.94-.94-2.06-.94 2.06-2.06.94zm-11 1L8.5 8.5l.94-2.06 2.06-.94-2.06-.94L8.5 2.5l-.94 2.06-2.06.94zm10 10l.94 2.06.94-2.06 2.06-.94-2.06-.94-.94-2.06-.94 2.06-2.06.94z\"/><path d=\"M17.41 7.96l-1.37-1.37c-.4-.4-.92-.59-1.43-.59-.52 0-1.04.2-1.43.59L10.3 9.45l-7.72 7.72c-.78.78-.78 2.05 0 2.83L4 21.41c.39.39.9.59 1.41.59.51 0 1.02-.2 1.41-.59l7.78-7.78 2.81-2.81c.8-.78.8-2.07 0-2.86zM5.41 20L4 18.59l7.72-7.72 1.47 1.35L5.41 20z\"/>\n",
              "  </svg>\n",
              "      </button>\n",
              "      \n",
              "  <style>\n",
              "    .colab-df-container {\n",
              "      display:flex;\n",
              "      flex-wrap:wrap;\n",
              "      gap: 12px;\n",
              "    }\n",
              "\n",
              "    .colab-df-convert {\n",
              "      background-color: #E8F0FE;\n",
              "      border: none;\n",
              "      border-radius: 50%;\n",
              "      cursor: pointer;\n",
              "      display: none;\n",
              "      fill: #1967D2;\n",
              "      height: 32px;\n",
              "      padding: 0 0 0 0;\n",
              "      width: 32px;\n",
              "    }\n",
              "\n",
              "    .colab-df-convert:hover {\n",
              "      background-color: #E2EBFA;\n",
              "      box-shadow: 0px 1px 2px rgba(60, 64, 67, 0.3), 0px 1px 3px 1px rgba(60, 64, 67, 0.15);\n",
              "      fill: #174EA6;\n",
              "    }\n",
              "\n",
              "    [theme=dark] .colab-df-convert {\n",
              "      background-color: #3B4455;\n",
              "      fill: #D2E3FC;\n",
              "    }\n",
              "\n",
              "    [theme=dark] .colab-df-convert:hover {\n",
              "      background-color: #434B5C;\n",
              "      box-shadow: 0px 1px 3px 1px rgba(0, 0, 0, 0.15);\n",
              "      filter: drop-shadow(0px 1px 2px rgba(0, 0, 0, 0.3));\n",
              "      fill: #FFFFFF;\n",
              "    }\n",
              "  </style>\n",
              "\n",
              "      <script>\n",
              "        const buttonEl =\n",
              "          document.querySelector('#df-c05c7e2a-68e0-45e5-8e12-cef8c6a54e2a button.colab-df-convert');\n",
              "        buttonEl.style.display =\n",
              "          google.colab.kernel.accessAllowed ? 'block' : 'none';\n",
              "\n",
              "        async function convertToInteractive(key) {\n",
              "          const element = document.querySelector('#df-c05c7e2a-68e0-45e5-8e12-cef8c6a54e2a');\n",
              "          const dataTable =\n",
              "            await google.colab.kernel.invokeFunction('convertToInteractive',\n",
              "                                                     [key], {});\n",
              "          if (!dataTable) return;\n",
              "\n",
              "          const docLinkHtml = 'Like what you see? Visit the ' +\n",
              "            '<a target=\"_blank\" href=https://colab.research.google.com/notebooks/data_table.ipynb>data table notebook</a>'\n",
              "            + ' to learn more about interactive tables.';\n",
              "          element.innerHTML = '';\n",
              "          dataTable['output_type'] = 'display_data';\n",
              "          await google.colab.output.renderOutput(dataTable, element);\n",
              "          const docLink = document.createElement('div');\n",
              "          docLink.innerHTML = docLinkHtml;\n",
              "          element.appendChild(docLink);\n",
              "        }\n",
              "      </script>\n",
              "    </div>\n",
              "  </div>\n",
              "  "
            ]
          },
          "metadata": {},
          "execution_count": 15
        }
      ],
      "source": [
        "df.describe()"
      ]
    },
    {
      "cell_type": "code",
      "execution_count": null,
      "metadata": {
        "id": "qw_dc0gexu3O"
      },
      "outputs": [],
      "source": []
    },
    {
      "cell_type": "code",
      "execution_count": null,
      "metadata": {
        "id": "P78mvxJnxutv"
      },
      "outputs": [],
      "source": []
    },
    {
      "cell_type": "code",
      "execution_count": null,
      "metadata": {
        "id": "_yr96aXV9_b0"
      },
      "outputs": [],
      "source": []
    },
    {
      "cell_type": "markdown",
      "metadata": {
        "id": "oMeVC9cYlSWd"
      },
      "source": [
        "#STEP 4 ENCODING"
      ]
    },
    {
      "cell_type": "code",
      "execution_count": null,
      "metadata": {
        "id": "faKU7Z2x9_Xu"
      },
      "outputs": [],
      "source": [
        "#Target column encoding\n",
        "def encode_text_index(df,name):\n",
        "  le = preprocessing.LabelEncoder()\n",
        "  df[name] = le.fit_transform(df[name])\n",
        "  return le.classes_"
      ]
    },
    {
      "cell_type": "code",
      "execution_count": null,
      "metadata": {
        "colab": {
          "base_uri": "https://localhost:8080/"
        },
        "id": "Q7-i3wzH9_V4",
        "outputId": "d32a2662-539b-4a95-90ff-c5483dc472d6"
      },
      "outputs": [
        {
          "output_type": "stream",
          "name": "stdout",
          "text": [
            "{'ip-10-100-1-120': 0, 'ip-10-100-1-129': 1, 'ip-10-100-1-165': 2, 'ip-10-100-1-169': 3, 'ip-10-100-1-173': 4, 'ip-10-100-1-217': 5, 'ip-10-100-1-28': 6, 'ip-10-100-1-34': 7, 'ip-10-100-1-55': 8, 'ip-10-100-1-57': 9, 'ip-10-100-1-79': 10, 'ubuntu': 11}\n"
          ]
        }
      ],
      "source": [
        "#Target column encoding\n",
        "from sklearn import preprocessing\n",
        "#def encode_text_index(df,name):\n",
        "le = preprocessing.LabelEncoder()\n",
        "le.fit_transform(df['hostName'])\n",
        "le_name_mapping = dict(zip(le.classes_, le.transform(le.classes_)))\n",
        "print(le_name_mapping)"
      ]
    },
    {
      "cell_type": "code",
      "execution_count": null,
      "metadata": {
        "id": "UwqYuFNnvFmC"
      },
      "outputs": [],
      "source": [
        "#Encoding the numeric column\n",
        "def  encode_numeric_zscore(df, name, mean=None, sd=None):\n",
        "  if mean is None:\n",
        "    mean= df[name].mean()\n",
        "\n",
        "  if sd is None:\n",
        "    sd=df[name].std()\n",
        "\n",
        "  df[name] = (df[name] - mean) / sd"
      ]
    },
    {
      "cell_type": "code",
      "execution_count": null,
      "metadata": {
        "id": "OKq_ilHSlBS9"
      },
      "outputs": [],
      "source": [
        "encode_numeric_zscore(df,'mountNamespace')\n",
        "encode_numeric_zscore(df,'threadId')\n",
        "encode_numeric_zscore(df,'processId')\n",
        "encode_numeric_zscore(df,'timestamp')\n",
        "encode_numeric_zscore(df,'parentProcessId')\n",
        "encode_numeric_zscore(df,'eventId')\n",
        "encode_numeric_zscore(df,'returnValue')"
      ]
    },
    {
      "cell_type": "code",
      "execution_count": null,
      "metadata": {
        "colab": {
          "base_uri": "https://localhost:8080/"
        },
        "id": "IKpQiy-Guuzz",
        "outputId": "d6736ef1-8b4c-4d88-93f9-80c6ee2983ce"
      },
      "outputs": [
        {
          "output_type": "execute_result",
          "data": {
            "text/plain": [
              "   timestamp  processId  threadId  parentProcessId  userId  mountNamespace  \\\n",
              "0   2.191776  -3.802539 -3.824314        -0.861872       0       -0.651332   \n",
              "1  -0.782767   0.355551  0.355187         1.774855    1001       -0.651332   \n",
              "2  -0.148517   0.251517  0.250616         1.618007       0       -0.651332   \n",
              "3  -0.714181   0.239957  0.238997        -0.796548       0        1.532028   \n",
              "4  -0.783934   0.355551  0.355187         1.774855    1001       -0.651332   \n",
              "\n",
              "     processName  hostName   eventId eventName stackAddresses  argsNum  \\\n",
              "0        systemd         9 -0.654670     fstat             []        2   \n",
              "1            tsm         5 -0.550395   connect             []        3   \n",
              "2           sshd         9 -0.660306     close             []        1   \n",
              "3  systemd-udevd        11  0.055526    openat             []        4   \n",
              "4            tsm         5 -0.550395   connect             []        3   \n",
              "\n",
              "   returnValue                                               args  sus  evil  \n",
              "0    -0.009363  [{'name': 'fd', 'type': 'int', 'value': 12}, {...    0     0  \n",
              "1    -0.363020  [{'name': 'sockfd', 'type': 'int', 'value': 20...    1     1  \n",
              "2    -0.009363        [{'name': 'fd', 'type': 'int', 'value': 8}]    0     0  \n",
              "3     0.037170  [{'name': 'dirfd', 'type': 'int', 'value': 6},...    0     0  \n",
              "4    -0.363020  [{'name': 'sockfd', 'type': 'int', 'value': 55...    1     1  "
            ],
            "text/html": [
              "\n",
              "  <div id=\"df-5acd6946-c504-489a-929e-9f62ff0d1b22\">\n",
              "    <div class=\"colab-df-container\">\n",
              "      <div>\n",
              "<style scoped>\n",
              "    .dataframe tbody tr th:only-of-type {\n",
              "        vertical-align: middle;\n",
              "    }\n",
              "\n",
              "    .dataframe tbody tr th {\n",
              "        vertical-align: top;\n",
              "    }\n",
              "\n",
              "    .dataframe thead th {\n",
              "        text-align: right;\n",
              "    }\n",
              "</style>\n",
              "<table border=\"1\" class=\"dataframe\">\n",
              "  <thead>\n",
              "    <tr style=\"text-align: right;\">\n",
              "      <th></th>\n",
              "      <th>timestamp</th>\n",
              "      <th>processId</th>\n",
              "      <th>threadId</th>\n",
              "      <th>parentProcessId</th>\n",
              "      <th>userId</th>\n",
              "      <th>mountNamespace</th>\n",
              "      <th>processName</th>\n",
              "      <th>hostName</th>\n",
              "      <th>eventId</th>\n",
              "      <th>eventName</th>\n",
              "      <th>stackAddresses</th>\n",
              "      <th>argsNum</th>\n",
              "      <th>returnValue</th>\n",
              "      <th>args</th>\n",
              "      <th>sus</th>\n",
              "      <th>evil</th>\n",
              "    </tr>\n",
              "  </thead>\n",
              "  <tbody>\n",
              "    <tr>\n",
              "      <th>0</th>\n",
              "      <td>2.191776</td>\n",
              "      <td>-3.802539</td>\n",
              "      <td>-3.824314</td>\n",
              "      <td>-0.861872</td>\n",
              "      <td>0</td>\n",
              "      <td>-0.651332</td>\n",
              "      <td>systemd</td>\n",
              "      <td>9</td>\n",
              "      <td>-0.654670</td>\n",
              "      <td>fstat</td>\n",
              "      <td>[]</td>\n",
              "      <td>2</td>\n",
              "      <td>-0.009363</td>\n",
              "      <td>[{'name': 'fd', 'type': 'int', 'value': 12}, {...</td>\n",
              "      <td>0</td>\n",
              "      <td>0</td>\n",
              "    </tr>\n",
              "    <tr>\n",
              "      <th>1</th>\n",
              "      <td>-0.782767</td>\n",
              "      <td>0.355551</td>\n",
              "      <td>0.355187</td>\n",
              "      <td>1.774855</td>\n",
              "      <td>1001</td>\n",
              "      <td>-0.651332</td>\n",
              "      <td>tsm</td>\n",
              "      <td>5</td>\n",
              "      <td>-0.550395</td>\n",
              "      <td>connect</td>\n",
              "      <td>[]</td>\n",
              "      <td>3</td>\n",
              "      <td>-0.363020</td>\n",
              "      <td>[{'name': 'sockfd', 'type': 'int', 'value': 20...</td>\n",
              "      <td>1</td>\n",
              "      <td>1</td>\n",
              "    </tr>\n",
              "    <tr>\n",
              "      <th>2</th>\n",
              "      <td>-0.148517</td>\n",
              "      <td>0.251517</td>\n",
              "      <td>0.250616</td>\n",
              "      <td>1.618007</td>\n",
              "      <td>0</td>\n",
              "      <td>-0.651332</td>\n",
              "      <td>sshd</td>\n",
              "      <td>9</td>\n",
              "      <td>-0.660306</td>\n",
              "      <td>close</td>\n",
              "      <td>[]</td>\n",
              "      <td>1</td>\n",
              "      <td>-0.009363</td>\n",
              "      <td>[{'name': 'fd', 'type': 'int', 'value': 8}]</td>\n",
              "      <td>0</td>\n",
              "      <td>0</td>\n",
              "    </tr>\n",
              "    <tr>\n",
              "      <th>3</th>\n",
              "      <td>-0.714181</td>\n",
              "      <td>0.239957</td>\n",
              "      <td>0.238997</td>\n",
              "      <td>-0.796548</td>\n",
              "      <td>0</td>\n",
              "      <td>1.532028</td>\n",
              "      <td>systemd-udevd</td>\n",
              "      <td>11</td>\n",
              "      <td>0.055526</td>\n",
              "      <td>openat</td>\n",
              "      <td>[]</td>\n",
              "      <td>4</td>\n",
              "      <td>0.037170</td>\n",
              "      <td>[{'name': 'dirfd', 'type': 'int', 'value': 6},...</td>\n",
              "      <td>0</td>\n",
              "      <td>0</td>\n",
              "    </tr>\n",
              "    <tr>\n",
              "      <th>4</th>\n",
              "      <td>-0.783934</td>\n",
              "      <td>0.355551</td>\n",
              "      <td>0.355187</td>\n",
              "      <td>1.774855</td>\n",
              "      <td>1001</td>\n",
              "      <td>-0.651332</td>\n",
              "      <td>tsm</td>\n",
              "      <td>5</td>\n",
              "      <td>-0.550395</td>\n",
              "      <td>connect</td>\n",
              "      <td>[]</td>\n",
              "      <td>3</td>\n",
              "      <td>-0.363020</td>\n",
              "      <td>[{'name': 'sockfd', 'type': 'int', 'value': 55...</td>\n",
              "      <td>1</td>\n",
              "      <td>1</td>\n",
              "    </tr>\n",
              "  </tbody>\n",
              "</table>\n",
              "</div>\n",
              "      <button class=\"colab-df-convert\" onclick=\"convertToInteractive('df-5acd6946-c504-489a-929e-9f62ff0d1b22')\"\n",
              "              title=\"Convert this dataframe to an interactive table.\"\n",
              "              style=\"display:none;\">\n",
              "        \n",
              "  <svg xmlns=\"http://www.w3.org/2000/svg\" height=\"24px\"viewBox=\"0 0 24 24\"\n",
              "       width=\"24px\">\n",
              "    <path d=\"M0 0h24v24H0V0z\" fill=\"none\"/>\n",
              "    <path d=\"M18.56 5.44l.94 2.06.94-2.06 2.06-.94-2.06-.94-.94-2.06-.94 2.06-2.06.94zm-11 1L8.5 8.5l.94-2.06 2.06-.94-2.06-.94L8.5 2.5l-.94 2.06-2.06.94zm10 10l.94 2.06.94-2.06 2.06-.94-2.06-.94-.94-2.06-.94 2.06-2.06.94z\"/><path d=\"M17.41 7.96l-1.37-1.37c-.4-.4-.92-.59-1.43-.59-.52 0-1.04.2-1.43.59L10.3 9.45l-7.72 7.72c-.78.78-.78 2.05 0 2.83L4 21.41c.39.39.9.59 1.41.59.51 0 1.02-.2 1.41-.59l7.78-7.78 2.81-2.81c.8-.78.8-2.07 0-2.86zM5.41 20L4 18.59l7.72-7.72 1.47 1.35L5.41 20z\"/>\n",
              "  </svg>\n",
              "      </button>\n",
              "      \n",
              "  <style>\n",
              "    .colab-df-container {\n",
              "      display:flex;\n",
              "      flex-wrap:wrap;\n",
              "      gap: 12px;\n",
              "    }\n",
              "\n",
              "    .colab-df-convert {\n",
              "      background-color: #E8F0FE;\n",
              "      border: none;\n",
              "      border-radius: 50%;\n",
              "      cursor: pointer;\n",
              "      display: none;\n",
              "      fill: #1967D2;\n",
              "      height: 32px;\n",
              "      padding: 0 0 0 0;\n",
              "      width: 32px;\n",
              "    }\n",
              "\n",
              "    .colab-df-convert:hover {\n",
              "      background-color: #E2EBFA;\n",
              "      box-shadow: 0px 1px 2px rgba(60, 64, 67, 0.3), 0px 1px 3px 1px rgba(60, 64, 67, 0.15);\n",
              "      fill: #174EA6;\n",
              "    }\n",
              "\n",
              "    [theme=dark] .colab-df-convert {\n",
              "      background-color: #3B4455;\n",
              "      fill: #D2E3FC;\n",
              "    }\n",
              "\n",
              "    [theme=dark] .colab-df-convert:hover {\n",
              "      background-color: #434B5C;\n",
              "      box-shadow: 0px 1px 3px 1px rgba(0, 0, 0, 0.15);\n",
              "      filter: drop-shadow(0px 1px 2px rgba(0, 0, 0, 0.3));\n",
              "      fill: #FFFFFF;\n",
              "    }\n",
              "  </style>\n",
              "\n",
              "      <script>\n",
              "        const buttonEl =\n",
              "          document.querySelector('#df-5acd6946-c504-489a-929e-9f62ff0d1b22 button.colab-df-convert');\n",
              "        buttonEl.style.display =\n",
              "          google.colab.kernel.accessAllowed ? 'block' : 'none';\n",
              "\n",
              "        async function convertToInteractive(key) {\n",
              "          const element = document.querySelector('#df-5acd6946-c504-489a-929e-9f62ff0d1b22');\n",
              "          const dataTable =\n",
              "            await google.colab.kernel.invokeFunction('convertToInteractive',\n",
              "                                                     [key], {});\n",
              "          if (!dataTable) return;\n",
              "\n",
              "          const docLinkHtml = 'Like what you see? Visit the ' +\n",
              "            '<a target=\"_blank\" href=https://colab.research.google.com/notebooks/data_table.ipynb>data table notebook</a>'\n",
              "            + ' to learn more about interactive tables.';\n",
              "          element.innerHTML = '';\n",
              "          dataTable['output_type'] = 'display_data';\n",
              "          await google.colab.output.renderOutput(dataTable, element);\n",
              "          const docLink = document.createElement('div');\n",
              "          docLink.innerHTML = docLinkHtml;\n",
              "          element.appendChild(docLink);\n",
              "        }\n",
              "      </script>\n",
              "    </div>\n",
              "  </div>\n",
              "  "
            ]
          },
          "metadata": {},
          "execution_count": 17
        }
      ],
      "source": [
        "hostNmae = encode_text_index(df,'hostName')\n",
        "df.head()"
      ]
    },
    {
      "cell_type": "code",
      "execution_count": null,
      "metadata": {
        "id": "tCfXDYt_uuw6"
      },
      "outputs": [],
      "source": [
        "df.replace([np.inf, -np.inf], np.nan, inplace=True)\n",
        "df.fillna(0, inplace=True)"
      ]
    },
    {
      "cell_type": "code",
      "execution_count": null,
      "metadata": {
        "id": "ti7gdmv9uutn"
      },
      "outputs": [],
      "source": []
    },
    {
      "cell_type": "code",
      "execution_count": null,
      "metadata": {
        "id": "VFB20B09xi_f"
      },
      "outputs": [],
      "source": []
    },
    {
      "cell_type": "markdown",
      "metadata": {
        "id": "cRkhtVoDvtNX"
      },
      "source": [
        "#STEP 5 Training Testing Spliting"
      ]
    },
    {
      "cell_type": "code",
      "execution_count": null,
      "metadata": {
        "id": "usNVv-lcuyzl"
      },
      "outputs": [],
      "source": [
        "y=df[['evil']].copy()"
      ]
    },
    {
      "cell_type": "code",
      "execution_count": null,
      "metadata": {
        "id": "0fdiYSe5uywh"
      },
      "outputs": [],
      "source": [
        "feature_selection=['timestamp','processId','threadId','eventId','returnValue']"
      ]
    },
    {
      "cell_type": "code",
      "execution_count": null,
      "metadata": {
        "id": "m_uffU17uyt8"
      },
      "outputs": [],
      "source": [
        "X=df[feature_selection].copy()"
      ]
    },
    {
      "cell_type": "code",
      "execution_count": null,
      "metadata": {
        "id": "F1QmQXenuyrg"
      },
      "outputs": [],
      "source": [
        "from sklearn.model_selection import train_test_split\n",
        "X_train, X_test, y_train, y_test = train_test_split(X, y, test_size=0.22, random_state=350)"
      ]
    },
    {
      "cell_type": "code",
      "execution_count": null,
      "metadata": {
        "id": "HMyIwfyAuyo7"
      },
      "outputs": [],
      "source": []
    },
    {
      "cell_type": "code",
      "execution_count": null,
      "metadata": {
        "id": "qHRyLjKauyme"
      },
      "outputs": [],
      "source": []
    },
    {
      "cell_type": "markdown",
      "metadata": {
        "id": "bcKNPrCByLyZ"
      },
      "source": [
        "#Random Forest"
      ]
    },
    {
      "cell_type": "code",
      "execution_count": null,
      "metadata": {
        "id": "8Fp6qYwvuyjw",
        "colab": {
          "base_uri": "https://localhost:8080/"
        },
        "outputId": "26469977-cca7-4c53-972e-41129c71d56c"
      },
      "outputs": [
        {
          "output_type": "stream",
          "name": "stderr",
          "text": [
            "/usr/local/lib/python3.7/dist-packages/ipykernel_launcher.py:4: DataConversionWarning: A column-vector y was passed when a 1d array was expected. Please change the shape of y to (n_samples,), for example using ravel().\n",
            "  after removing the cwd from sys.path.\n"
          ]
        },
        {
          "output_type": "execute_result",
          "data": {
            "text/plain": [
              "RandomForestClassifier(criterion='entropy', max_leaf_nodes=30, n_estimators=40,\n",
              "                       random_state=350)"
            ]
          },
          "metadata": {},
          "execution_count": 42
        }
      ],
      "source": [
        "from sklearn.ensemble import RandomForestClassifier\n",
        "\n",
        "RF_classifier = RandomForestClassifier(n_estimators = 40, criterion = 'entropy', max_leaf_nodes=30, random_state = 350)\n",
        "RF_classifier.fit(X_train, y_train)"
      ]
    },
    {
      "cell_type": "code",
      "execution_count": null,
      "metadata": {
        "colab": {
          "base_uri": "https://localhost:8080/"
        },
        "id": "6t7TVANNuyh4",
        "outputId": "e6122082-652e-44f5-a9f3-073b868643d2"
      },
      "outputs": [
        {
          "output_type": "execute_result",
          "data": {
            "text/plain": [
              "array([0, 0, 0, ..., 1, 0, 0])"
            ]
          },
          "metadata": {},
          "execution_count": 43
        }
      ],
      "source": [
        "from sklearn.metrics import classification_report, confusion_matrix\n",
        "\n",
        "y_predict_train = RF_classifier.predict(X_train)\n",
        "y_predict_train\n",
        "#cm = confusion_matrix(y_train, y_predict_train)\n",
        "#sns.heatmap(cm, annot=True)"
      ]
    },
    {
      "cell_type": "code",
      "execution_count": null,
      "metadata": {
        "id": "bH6nkJHVuyf7"
      },
      "outputs": [],
      "source": [
        "# Predicting the Test set results\n",
        "y_predict_test = RF_classifier.predict(X_test)\n",
        "#cm = confusion_matrix(y_test, y_predict_test)\n",
        "#sns.heatmap(cm, annot=True)"
      ]
    },
    {
      "cell_type": "code",
      "execution_count": null,
      "metadata": {
        "colab": {
          "base_uri": "https://localhost:8080/"
        },
        "id": "Xwfn45Mauyd0",
        "outputId": "fbf33a15-7948-46c6-c9cf-e9bc123b4b7a"
      },
      "outputs": [
        {
          "output_type": "stream",
          "name": "stdout",
          "text": [
            "              precision    recall  f1-score   support\n",
            "\n",
            "         0.0       1.00      1.00      1.00     55781\n",
            "         1.0       1.00      0.99      0.99     14464\n",
            "\n",
            "    accuracy                           1.00     70245\n",
            "   macro avg       1.00      0.99      1.00     70245\n",
            "weighted avg       1.00      1.00      1.00     70245\n",
            "\n"
          ]
        }
      ],
      "source": [
        "print(classification_report(y_test, y_predict_test))"
      ]
    },
    {
      "cell_type": "code",
      "source": [],
      "metadata": {
        "id": "QsRZ_kkcISjv"
      },
      "execution_count": null,
      "outputs": []
    },
    {
      "cell_type": "code",
      "source": [],
      "metadata": {
        "id": "MKkS6puJISg-"
      },
      "execution_count": null,
      "outputs": []
    },
    {
      "cell_type": "markdown",
      "source": [
        "# Gradient Boosting"
      ],
      "metadata": {
        "id": "9YM6tlhhBrbq"
      }
    },
    {
      "cell_type": "code",
      "source": [
        "from sklearn.ensemble import GradientBoostingClassifier\n",
        "\n",
        "GBDT_classifier = GradientBoostingClassifier()\n",
        "GBDT_classifier.fit(X_train, y_train)"
      ],
      "metadata": {
        "colab": {
          "base_uri": "https://localhost:8080/"
        },
        "id": "bKDxVG0gBoac",
        "outputId": "43d78644-da8b-4757-f468-5a57434bf48c"
      },
      "execution_count": null,
      "outputs": [
        {
          "output_type": "stream",
          "name": "stderr",
          "text": [
            "/usr/local/lib/python3.7/dist-packages/sklearn/ensemble/_gb.py:494: DataConversionWarning: A column-vector y was passed when a 1d array was expected. Please change the shape of y to (n_samples, ), for example using ravel().\n",
            "  y = column_or_1d(y, warn=True)\n"
          ]
        },
        {
          "output_type": "execute_result",
          "data": {
            "text/plain": [
              "GradientBoostingClassifier()"
            ]
          },
          "metadata": {},
          "execution_count": 45
        }
      ]
    },
    {
      "cell_type": "code",
      "source": [
        "from sklearn.metrics import classification_report, confusion_matrix\n",
        "\n",
        "y_predict_train = GBDT_classifier.predict(X_train)\n",
        "y_predict_train\n",
        "#cm = confusion_matrix(y_train, y_predict_train)\n",
        "#sns.heatmap(cm, annot=True)"
      ],
      "metadata": {
        "colab": {
          "base_uri": "https://localhost:8080/"
        },
        "id": "LyykFKaPBoXW",
        "outputId": "08471c74-d1c6-44f3-d822-ce7e793fe330"
      },
      "execution_count": null,
      "outputs": [
        {
          "output_type": "execute_result",
          "data": {
            "text/plain": [
              "array([0, 0, 0, ..., 1, 0, 0])"
            ]
          },
          "metadata": {},
          "execution_count": 46
        }
      ]
    },
    {
      "cell_type": "code",
      "source": [
        "# Predicting the Test set results\n",
        "y_predict_test = GBDT_classifier.predict(X_test)\n",
        "#cm = confusion_matrix(y_test, y_predict_test)\n",
        "#sns.heatmap(cm, annot=True)"
      ],
      "metadata": {
        "id": "oJMVmsbNBoUg"
      },
      "execution_count": null,
      "outputs": []
    },
    {
      "cell_type": "code",
      "source": [
        "print(classification_report(y_test, y_predict_test))"
      ],
      "metadata": {
        "colab": {
          "base_uri": "https://localhost:8080/"
        },
        "id": "_BZovFeWBoRf",
        "outputId": "0c7fef68-3204-4725-bdb9-8524f166a493"
      },
      "execution_count": null,
      "outputs": [
        {
          "output_type": "stream",
          "name": "stdout",
          "text": [
            "              precision    recall  f1-score   support\n",
            "\n",
            "           0       1.00      1.00      1.00    216080\n",
            "           1       1.00      0.99      1.00     34958\n",
            "\n",
            "    accuracy                           1.00    251038\n",
            "   macro avg       1.00      1.00      1.00    251038\n",
            "weighted avg       1.00      1.00      1.00    251038\n",
            "\n"
          ]
        }
      ]
    },
    {
      "cell_type": "code",
      "source": [],
      "metadata": {
        "id": "zrLD2RLIBoGl"
      },
      "execution_count": null,
      "outputs": []
    },
    {
      "cell_type": "code",
      "source": [],
      "metadata": {
        "id": "NagnK-C4BoDy"
      },
      "execution_count": null,
      "outputs": []
    },
    {
      "cell_type": "markdown",
      "source": [
        "# *XGBoost*"
      ],
      "metadata": {
        "id": "l1QUNjRRUooC"
      }
    },
    {
      "cell_type": "code",
      "source": [
        "from xgboost import XGBClassifier\n",
        "XGB_classifier = XGBClassifier()\n",
        "XGB_classifier.fit(X_train, y_train)"
      ],
      "metadata": {
        "colab": {
          "base_uri": "https://localhost:8080/"
        },
        "id": "7ZhVKi0xUnNe",
        "outputId": "be73190a-d1a0-473e-e396-4d77a0bc1f3e"
      },
      "execution_count": null,
      "outputs": [
        {
          "output_type": "stream",
          "name": "stderr",
          "text": [
            "/usr/local/lib/python3.7/dist-packages/sklearn/preprocessing/_label.py:98: DataConversionWarning: A column-vector y was passed when a 1d array was expected. Please change the shape of y to (n_samples, ), for example using ravel().\n",
            "  y = column_or_1d(y, warn=True)\n",
            "/usr/local/lib/python3.7/dist-packages/sklearn/preprocessing/_label.py:133: DataConversionWarning: A column-vector y was passed when a 1d array was expected. Please change the shape of y to (n_samples, ), for example using ravel().\n",
            "  y = column_or_1d(y, warn=True)\n"
          ]
        },
        {
          "output_type": "execute_result",
          "data": {
            "text/plain": [
              "XGBClassifier()"
            ]
          },
          "metadata": {},
          "execution_count": 49
        }
      ]
    },
    {
      "cell_type": "code",
      "source": [
        "from sklearn.metrics import classification_report, confusion_matrix, accuracy_score\n",
        "\n",
        "y_predict_train = XGB_classifier.predict(X_train)\n",
        "y_predict_train\n",
        "#cm = confusion_matrix(y_train, y_predict_train)\n",
        "#sns.heatmap(cm, annot=True)"
      ],
      "metadata": {
        "id": "248w1PbKUnJ-",
        "colab": {
          "base_uri": "https://localhost:8080/"
        },
        "outputId": "4ffe9677-b8a2-422e-890f-c3c715f84b59"
      },
      "execution_count": null,
      "outputs": [
        {
          "output_type": "execute_result",
          "data": {
            "text/plain": [
              "array([0, 0, 0, ..., 1, 0, 0])"
            ]
          },
          "metadata": {},
          "execution_count": 50
        }
      ]
    },
    {
      "cell_type": "code",
      "source": [
        "# Predicting the Test set results\n",
        "y_predict_test = XGB_classifier.predict(X_test)\n",
        "#cm = confusion_matrix(y_test, y_predict_test)\n",
        "#sns.heatmap(cm, annot=True)"
      ],
      "metadata": {
        "id": "IBKfRKicUm9O"
      },
      "execution_count": null,
      "outputs": []
    },
    {
      "cell_type": "code",
      "source": [
        "print(classification_report(y_test, y_predict_test))"
      ],
      "metadata": {
        "colab": {
          "base_uri": "https://localhost:8080/"
        },
        "id": "lCeIisTTU4qQ",
        "outputId": "3abf6114-3647-4947-f5f3-f77673630929"
      },
      "execution_count": null,
      "outputs": [
        {
          "output_type": "stream",
          "name": "stdout",
          "text": [
            "              precision    recall  f1-score   support\n",
            "\n",
            "           0       1.00      1.00      1.00    216080\n",
            "           1       1.00      0.99      1.00     34958\n",
            "\n",
            "    accuracy                           1.00    251038\n",
            "   macro avg       1.00      1.00      1.00    251038\n",
            "weighted avg       1.00      1.00      1.00    251038\n",
            "\n"
          ]
        }
      ]
    },
    {
      "cell_type": "code",
      "source": [],
      "metadata": {
        "id": "gNkGs_0yrJ_v"
      },
      "execution_count": null,
      "outputs": []
    },
    {
      "cell_type": "code",
      "source": [],
      "metadata": {
        "id": "MGqHmpWHrJ04"
      },
      "execution_count": null,
      "outputs": []
    },
    {
      "cell_type": "markdown",
      "source": [
        "# K-NN"
      ],
      "metadata": {
        "id": "h0YaBa3MfKMx"
      }
    },
    {
      "cell_type": "code",
      "source": [
        "from sklearn.neighbors import KNeighborsClassifier\n",
        "neigh = KNeighborsClassifier()\n",
        "neigh.fit(X_train, y_train)"
      ],
      "metadata": {
        "id": "wr6Mdj5IU4gZ",
        "colab": {
          "base_uri": "https://localhost:8080/"
        },
        "outputId": "0d03d6b0-547b-43dc-eaec-5e313fb14f43"
      },
      "execution_count": null,
      "outputs": [
        {
          "output_type": "stream",
          "name": "stderr",
          "text": [
            "/usr/local/lib/python3.7/dist-packages/sklearn/neighbors/_classification.py:198: DataConversionWarning: A column-vector y was passed when a 1d array was expected. Please change the shape of y to (n_samples,), for example using ravel().\n",
            "  return self._fit(X, y)\n"
          ]
        },
        {
          "output_type": "execute_result",
          "data": {
            "text/plain": [
              "KNeighborsClassifier()"
            ]
          },
          "metadata": {},
          "execution_count": 69
        }
      ]
    },
    {
      "cell_type": "code",
      "source": [
        "from sklearn.metrics import classification_report, confusion_matrix\n",
        "\n",
        "y_predict_train = neigh.predict(X_train)\n",
        "y_predict_train\n",
        "\n"
      ],
      "metadata": {
        "id": "n2r1KxVtU4Vw",
        "colab": {
          "base_uri": "https://localhost:8080/"
        },
        "outputId": "c0eff0ec-b6dd-4d49-de85-824eaf063ae4"
      },
      "execution_count": null,
      "outputs": [
        {
          "output_type": "execute_result",
          "data": {
            "text/plain": [
              "array([0, 0, 0, ..., 1, 0, 0])"
            ]
          },
          "metadata": {},
          "execution_count": 71
        }
      ]
    },
    {
      "cell_type": "code",
      "source": [
        "y_predict_test = neigh.predict(X_test)"
      ],
      "metadata": {
        "id": "JcCfu8Vsukbb"
      },
      "execution_count": null,
      "outputs": []
    },
    {
      "cell_type": "code",
      "source": [
        "print(classification_report(y_test, y_predict_test))"
      ],
      "metadata": {
        "colab": {
          "base_uri": "https://localhost:8080/"
        },
        "id": "AwhLorPFwihf",
        "outputId": "39851970-b048-4d47-85bb-4b23b6137227"
      },
      "execution_count": null,
      "outputs": [
        {
          "output_type": "stream",
          "name": "stdout",
          "text": [
            "              precision    recall  f1-score   support\n",
            "\n",
            "           0       1.00      1.00      1.00    216080\n",
            "           1       1.00      1.00      1.00     34958\n",
            "\n",
            "    accuracy                           1.00    251038\n",
            "   macro avg       1.00      1.00      1.00    251038\n",
            "weighted avg       1.00      1.00      1.00    251038\n",
            "\n"
          ]
        }
      ]
    },
    {
      "cell_type": "code",
      "source": [],
      "metadata": {
        "id": "K_dz_POvrLFj"
      },
      "execution_count": null,
      "outputs": []
    },
    {
      "cell_type": "code",
      "source": [],
      "metadata": {
        "id": "usXArlZVrLBt"
      },
      "execution_count": null,
      "outputs": []
    },
    {
      "cell_type": "markdown",
      "source": [
        "# Naive Bayes\n"
      ],
      "metadata": {
        "id": "caezlX_swrqk"
      }
    },
    {
      "cell_type": "code",
      "source": [
        "from sklearn.naive_bayes import GaussianNB\n",
        "neigh = GaussianNB()\n",
        "neigh.fit(X_train, y_train)\n"
      ],
      "metadata": {
        "colab": {
          "base_uri": "https://localhost:8080/"
        },
        "id": "nA2XY9rOwrLo",
        "outputId": "44fbc12a-78cb-4648-bb07-a740006a8b98"
      },
      "execution_count": null,
      "outputs": [
        {
          "output_type": "stream",
          "name": "stderr",
          "text": [
            "/usr/local/lib/python3.7/dist-packages/sklearn/utils/validation.py:993: DataConversionWarning: A column-vector y was passed when a 1d array was expected. Please change the shape of y to (n_samples, ), for example using ravel().\n",
            "  y = column_or_1d(y, warn=True)\n"
          ]
        },
        {
          "output_type": "execute_result",
          "data": {
            "text/plain": [
              "GaussianNB()"
            ]
          },
          "metadata": {},
          "execution_count": 23
        }
      ]
    },
    {
      "cell_type": "code",
      "source": [
        "from sklearn.metrics import classification_report, confusion_matrix\n",
        "\n",
        "y_predict_train = neigh.predict(X_train)\n",
        "y_predict_train\n"
      ],
      "metadata": {
        "colab": {
          "base_uri": "https://localhost:8080/"
        },
        "id": "rsONU44qxJHE",
        "outputId": "54c8fb15-faee-4149-8990-5c836ae6cf67"
      },
      "execution_count": null,
      "outputs": [
        {
          "output_type": "execute_result",
          "data": {
            "text/plain": [
              "array([0, 0, 0, ..., 1, 0, 0])"
            ]
          },
          "metadata": {},
          "execution_count": 24
        }
      ]
    },
    {
      "cell_type": "code",
      "source": [
        "y_predict_test = neigh.predict(X_test)"
      ],
      "metadata": {
        "id": "geN2Awb0xOuD"
      },
      "execution_count": null,
      "outputs": []
    },
    {
      "cell_type": "code",
      "source": [
        "print(classification_report(y_test, y_predict_test))"
      ],
      "metadata": {
        "colab": {
          "base_uri": "https://localhost:8080/"
        },
        "id": "UiR41Gn-xPyh",
        "outputId": "3ef13ef0-3d78-40fc-acd6-0ee33069656d"
      },
      "execution_count": null,
      "outputs": [
        {
          "output_type": "stream",
          "name": "stdout",
          "text": [
            "              precision    recall  f1-score   support\n",
            "\n",
            "           0       1.00      1.00      1.00    216376\n",
            "           1       0.98      0.98      0.98     34662\n",
            "\n",
            "    accuracy                           0.99    251038\n",
            "   macro avg       0.99      0.99      0.99    251038\n",
            "weighted avg       0.99      0.99      0.99    251038\n",
            "\n"
          ]
        }
      ]
    },
    {
      "cell_type": "code",
      "source": [],
      "metadata": {
        "id": "I5xnUTXjrMJN"
      },
      "execution_count": null,
      "outputs": []
    },
    {
      "cell_type": "code",
      "source": [],
      "metadata": {
        "id": "F79l1jlsrMFt"
      },
      "execution_count": null,
      "outputs": []
    },
    {
      "cell_type": "markdown",
      "source": [
        "# DecisionTree"
      ],
      "metadata": {
        "id": "YP6yeTJcXOo1"
      }
    },
    {
      "cell_type": "code",
      "source": [
        "from sklearn.tree import DecisionTreeClassifier\n",
        "\n",
        "DT_classifier = DecisionTreeClassifier(max_leaf_nodes=30, random_state = 350)\n",
        "DT_classifier.fit(X_train, y_train)"
      ],
      "metadata": {
        "colab": {
          "base_uri": "https://localhost:8080/"
        },
        "id": "t_mIUGPZVqJT",
        "outputId": "6ab88833-756a-41c3-abc8-460737b0fb86"
      },
      "execution_count": null,
      "outputs": [
        {
          "output_type": "execute_result",
          "data": {
            "text/plain": [
              "DecisionTreeClassifier(max_leaf_nodes=30, random_state=350)"
            ]
          },
          "metadata": {},
          "execution_count": 78
        }
      ]
    },
    {
      "cell_type": "code",
      "source": [
        "from sklearn.metrics import classification_report, confusion_matrix, accuracy_score\n",
        "\n",
        "y_predict_train = DT_classifier.predict(X_train)\n",
        "y_predict_train\n",
        "#cm = confusion_matrix(y_train, y_predict_train)\n",
        "#sns.heatmap(cm, annot=True)"
      ],
      "metadata": {
        "colab": {
          "base_uri": "https://localhost:8080/"
        },
        "id": "sOKwK2CHVqFF",
        "outputId": "72818611-5ce9-4d08-ed14-e64b21f3cc43"
      },
      "execution_count": null,
      "outputs": [
        {
          "output_type": "execute_result",
          "data": {
            "text/plain": [
              "array([0, 0, 0, ..., 1, 0, 0])"
            ]
          },
          "metadata": {},
          "execution_count": 79
        }
      ]
    },
    {
      "cell_type": "code",
      "source": [
        "# Predicting the Test set results\n",
        "y_predict_test = DT_classifier.predict(X_test)\n",
        "#cm = confusion_matrix(y_test, y_predict_test)\n",
        "#sns.heatmap(cm, annot=True)"
      ],
      "metadata": {
        "id": "NtQoGH1rVqAq"
      },
      "execution_count": null,
      "outputs": []
    },
    {
      "cell_type": "code",
      "source": [
        "print(classification_report(y_test, y_predict_test))"
      ],
      "metadata": {
        "colab": {
          "base_uri": "https://localhost:8080/"
        },
        "id": "-AgX04LuVp5V",
        "outputId": "376eae24-6d6b-46ae-c835-0d0f7f14bca8"
      },
      "execution_count": null,
      "outputs": [
        {
          "output_type": "stream",
          "name": "stdout",
          "text": [
            "              precision    recall  f1-score   support\n",
            "\n",
            "           0       1.00      1.00      1.00    216080\n",
            "           1       1.00      1.00      1.00     34958\n",
            "\n",
            "    accuracy                           1.00    251038\n",
            "   macro avg       1.00      1.00      1.00    251038\n",
            "weighted avg       1.00      1.00      1.00    251038\n",
            "\n"
          ]
        }
      ]
    },
    {
      "cell_type": "code",
      "source": [],
      "metadata": {
        "id": "YsRsMkaOrNWV"
      },
      "execution_count": null,
      "outputs": []
    },
    {
      "cell_type": "code",
      "source": [],
      "metadata": {
        "id": "jSdIRql2rNP1"
      },
      "execution_count": null,
      "outputs": []
    },
    {
      "cell_type": "markdown",
      "source": [
        "# Adaboost"
      ],
      "metadata": {
        "id": "RCCHAwDn0Ssh"
      }
    },
    {
      "cell_type": "code",
      "source": [
        "from sklearn.ensemble import AdaBoostClassifier\n",
        "AB_classifier = AdaBoostClassifier(n_estimators = 40,  random_state = 350)\n",
        "AB_classifier.fit(X_train, y_train)"
      ],
      "metadata": {
        "colab": {
          "base_uri": "https://localhost:8080/"
        },
        "id": "4UnYR1iZ0SR9",
        "outputId": "05e4278e-d9f1-43ec-f410-f2bae73cddd5"
      },
      "execution_count": null,
      "outputs": [
        {
          "output_type": "stream",
          "name": "stderr",
          "text": [
            "/usr/local/lib/python3.7/dist-packages/sklearn/utils/validation.py:993: DataConversionWarning: A column-vector y was passed when a 1d array was expected. Please change the shape of y to (n_samples, ), for example using ravel().\n",
            "  y = column_or_1d(y, warn=True)\n"
          ]
        },
        {
          "output_type": "execute_result",
          "data": {
            "text/plain": [
              "AdaBoostClassifier(n_estimators=40, random_state=350)"
            ]
          },
          "metadata": {},
          "execution_count": 92
        }
      ]
    },
    {
      "cell_type": "code",
      "source": [
        "from sklearn.metrics import classification_report, confusion_matrix\n",
        "\n",
        "y_predict_train = AB_classifier.predict(X_train)\n",
        "y_predict_train"
      ],
      "metadata": {
        "id": "yeNpXG0yVpvP",
        "colab": {
          "base_uri": "https://localhost:8080/"
        },
        "outputId": "44ed6417-5474-43d7-f6bb-cd31993d6602"
      },
      "execution_count": null,
      "outputs": [
        {
          "output_type": "execute_result",
          "data": {
            "text/plain": [
              "array([0, 0, 0, ..., 1, 0, 0])"
            ]
          },
          "metadata": {},
          "execution_count": 94
        }
      ]
    },
    {
      "cell_type": "code",
      "source": [
        "y_predict_test = AB_classifier.predict(X_test)"
      ],
      "metadata": {
        "id": "1jmiLbJ3Z4nU"
      },
      "execution_count": null,
      "outputs": []
    },
    {
      "cell_type": "code",
      "source": [
        "print(classification_report(y_test, y_predict_test))"
      ],
      "metadata": {
        "colab": {
          "base_uri": "https://localhost:8080/"
        },
        "id": "jF-r6YgK4jto",
        "outputId": "13b4242e-14f7-426d-8608-c0e640cc90bb"
      },
      "execution_count": null,
      "outputs": [
        {
          "output_type": "stream",
          "name": "stdout",
          "text": [
            "              precision    recall  f1-score   support\n",
            "\n",
            "           0       1.00      1.00      1.00    216080\n",
            "           1       0.99      0.99      0.99     34958\n",
            "\n",
            "    accuracy                           1.00    251038\n",
            "   macro avg       1.00      1.00      1.00    251038\n",
            "weighted avg       1.00      1.00      1.00    251038\n",
            "\n"
          ]
        }
      ]
    },
    {
      "cell_type": "code",
      "source": [],
      "metadata": {
        "id": "bN41g9KwrOug"
      },
      "execution_count": null,
      "outputs": []
    },
    {
      "cell_type": "code",
      "source": [],
      "metadata": {
        "id": "jteT4UucrOrF"
      },
      "execution_count": null,
      "outputs": []
    },
    {
      "cell_type": "markdown",
      "source": [
        "# Step 6 : ROC Curve"
      ],
      "metadata": {
        "id": "jg_Es5qGSvIu"
      }
    },
    {
      "cell_type": "code",
      "source": [
        "import matplotlib.pyplot as plt\n",
        "from sklearn import metrics\n",
        "\n",
        "from sklearn.tree import DecisionTreeClassifier\n",
        "from sklearn.ensemble import GradientBoostingClassifier\n",
        "from sklearn.ensemble import RandomForestClassifier\n",
        "from xgboost import XGBClassifier\n",
        "XGB_classifier = XGBClassifier()"
      ],
      "metadata": {
        "id": "WU32fs2RBn-m"
      },
      "execution_count": null,
      "outputs": []
    },
    {
      "cell_type": "code",
      "source": [
        "#set up plotting area\n",
        "plt.figure(0).clf()\n",
        "\n",
        "#fit Random Forest model and plot ROC curve\n",
        "model = RandomForestClassifier()\n",
        "model.fit(X_train, y_train)\n",
        "y_pred = model.predict_proba(X_test)[:, 1]\n",
        "fpr, tpr, _ = metrics.roc_curve(y_test, y_pred)\n",
        "auc = round(metrics.roc_auc_score(y_test, y_pred), 4)\n",
        "plt.plot(fpr,tpr,label=\"Random Forest, AUC=\"+str(auc))\n",
        "\n",
        "#fit Gradient Boosting model and plot ROC curve\n",
        "model = GradientBoostingClassifier()\n",
        "model.fit(X_train, y_train)\n",
        "y_pred = model.predict_proba(X_test)[:, 1]\n",
        "fpr, tpr, _ = metrics.roc_curve(y_test, y_pred)\n",
        "auc = round(metrics.roc_auc_score(y_test, y_pred), 4)\n",
        "plt.plot(fpr,tpr,label=\"Gradient Boosting, AUC=\"+str(auc))\n",
        "\n",
        "#fit XGBoost model and plot ROC curve\n",
        "model = XGBClassifier()\n",
        "model.fit(X_train, y_train)\n",
        "y_pred = model.predict_proba(X_test)[:, 1]\n",
        "fpr, tpr, _ = metrics.roc_curve(y_test, y_pred)\n",
        "auc = round(metrics.roc_auc_score(y_test, y_pred), 4)\n",
        "plt.plot(fpr,tpr,label=\"XGBoost, AUC=\"+str(auc))\n",
        "\n",
        "#fit DT model and plot ROC curve\n",
        "model = DT_classifier\n",
        "model.fit(X_train, y_train)\n",
        "y_pred = model.predict_proba(X_test)[:, 1]\n",
        "fpr, tpr, _ = metrics.roc_curve(y_test, y_pred)\n",
        "auc = round(metrics.roc_auc_score(y_test, y_pred), 4)\n",
        "plt.plot(fpr,tpr,label=\"DT, AUC=\"+str(auc))\n",
        "\n",
        "\n",
        "#fit NAIVE BAYES model and plot ROC curve\n",
        "\n",
        "model = GaussianNB()\n",
        "model.fit(X_train, y_train)\n",
        "y_pred = model.predict_proba(X_test)[:, 1]\n",
        "fpr, tpr, _ = metrics.roc_curve(y_test, y_pred)\n",
        "auc = round(metrics.roc_auc_score(y_test, y_pred), 4)\n",
        "plt.plot(fpr,tpr,label=\"NAIVE BAYES, AUC=\"+str(auc)) \n",
        "\n",
        "\n",
        "\n",
        "# Plot line with no predictive power (baseline)\n",
        "plt.plot([0, 1], [0, 1], color='darkblue', linestyle='--', label='Baseline')\n",
        "\n",
        "#add legend\n",
        "plt.legend()"
      ],
      "metadata": {
        "colab": {
          "base_uri": "https://localhost:8080/",
          "height": 476
        },
        "id": "N8aS1RBLBn79",
        "outputId": "64752891-a60e-417c-ce1c-acc68b69a9d0"
      },
      "execution_count": null,
      "outputs": [
        {
          "output_type": "stream",
          "name": "stderr",
          "text": [
            "/usr/local/lib/python3.7/dist-packages/ipykernel_launcher.py:6: DataConversionWarning: A column-vector y was passed when a 1d array was expected. Please change the shape of y to (n_samples,), for example using ravel().\n",
            "  \n",
            "/usr/local/lib/python3.7/dist-packages/sklearn/ensemble/_gb.py:494: DataConversionWarning: A column-vector y was passed when a 1d array was expected. Please change the shape of y to (n_samples, ), for example using ravel().\n",
            "  y = column_or_1d(y, warn=True)\n",
            "/usr/local/lib/python3.7/dist-packages/sklearn/preprocessing/_label.py:98: DataConversionWarning: A column-vector y was passed when a 1d array was expected. Please change the shape of y to (n_samples, ), for example using ravel().\n",
            "  y = column_or_1d(y, warn=True)\n",
            "/usr/local/lib/python3.7/dist-packages/sklearn/preprocessing/_label.py:133: DataConversionWarning: A column-vector y was passed when a 1d array was expected. Please change the shape of y to (n_samples, ), for example using ravel().\n",
            "  y = column_or_1d(y, warn=True)\n",
            "/usr/local/lib/python3.7/dist-packages/sklearn/utils/validation.py:993: DataConversionWarning: A column-vector y was passed when a 1d array was expected. Please change the shape of y to (n_samples, ), for example using ravel().\n",
            "  y = column_or_1d(y, warn=True)\n"
          ]
        },
        {
          "output_type": "execute_result",
          "data": {
            "text/plain": [
              "<matplotlib.legend.Legend at 0x7fcebe5cca10>"
            ]
          },
          "metadata": {},
          "execution_count": 83
        },
        {
          "output_type": "display_data",
          "data": {
            "text/plain": [
              "<Figure size 432x288 with 1 Axes>"
            ],
            "image/png": "[encoded data removed]"
          },
          "metadata": {
            "needs_background": "light"
          }
        }
      ]
    }
  ],
  "metadata": {
    "colab": {
      "provenance": []
    },
    "kernelspec": {
      "display_name": "Python 3",
      "name": "python3"
    }
  },
  "nbformat": 4,
  "nbformat_minor": 0
}